{
 "cells": [
  {
   "cell_type": "code",
   "execution_count": 4,
   "metadata": {},
   "outputs": [
    {
     "name": "stdout",
     "output_type": "stream",
     "text": [
      "Video output_video_2.avi is created with 461 frames at 30fps.\n"
     ]
    }
   ],
   "source": [
    "import cv2\n",
    "import os\n",
    "import glob\n",
    "\n",
    "# Folder containing the PNG images\n",
    "image_folder = 'figs'\n",
    "video_name = 'output_video_2.avi'\n",
    "\n",
    "images = glob.glob(os.path.join(image_folder, '*.png'))\n",
    "#images.sort()  # Sort the images alphabetically\n",
    "\n",
    "# Check if we have images to process\n",
    "if not images:\n",
    "    raise ValueError(f\"No PNG images found in the folder {image_folder}.\")\n",
    "\n",
    "# Read the first image to determine the frame size\n",
    "frame = cv2.imread(images[0])\n",
    "height, width, layers = frame.shape\n",
    "\n",
    "# Define the new height after cropping\n",
    "crop_top = 600\n",
    "crop_bottom = 600\n",
    "new_height = height - (crop_top + crop_bottom)\n",
    "\n",
    "# Check if the cropping is possible with the current image size\n",
    "if new_height <= 0:\n",
    "    raise ValueError(\"Cropping dimensions are larger than the image height.\")\n",
    "\n",
    "# Define the codec and create VideoWriter object\n",
    "fourcc = cv2.VideoWriter_fourcc(*'XVID')\n",
    "video = cv2.VideoWriter(video_name, fourcc, 30, (width, new_height))\n",
    "\n",
    "for image in images:\n",
    "    frame = cv2.imread(image)\n",
    "\n",
    "    # Crop the image [y1:y2, x1:x2]\n",
    "    cropped_frame = frame[crop_top:-crop_bottom, 0:width]\n",
    "\n",
    "    video.write(cropped_frame)\n",
    "\n",
    "cv2.destroyAllWindows()\n",
    "video.release()\n",
    "\n",
    "print(f'Video {video_name} is created with {len(images)} frames at 30fps.')"
   ]
  }
 ],
 "metadata": {
  "kernelspec": {
   "display_name": "Python 3",
   "language": "python",
   "name": "python3"
  },
  "language_info": {
   "codemirror_mode": {
    "name": "ipython",
    "version": 3
   },
   "file_extension": ".py",
   "mimetype": "text/x-python",
   "name": "python",
   "nbconvert_exporter": "python",
   "pygments_lexer": "ipython3",
   "version": "3.11.5"
  }
 },
 "nbformat": 4,
 "nbformat_minor": 2
}
