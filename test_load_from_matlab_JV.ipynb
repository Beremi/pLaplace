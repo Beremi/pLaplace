{
 "cells": [
  {
   "cell_type": "code",
   "execution_count": 1,
   "metadata": {},
   "outputs": [],
   "source": [
    "# Marta Matice Valdman 1 - solution\n",
    "# here is the original file in OneDrive\n",
    "import scipy.io as io\n",
    "import numpy as np\n",
    "\n",
    "\n",
    "# from scipy.io import loadmat  # this is the SciPy module that loads mat-files\n",
    "import matplotlib.pyplot as plt\n",
    "from datetime import datetime, date, time\n",
    "import pandas as pd\n",
    "\n",
    "import numpy.linalg as la\n",
    "import scipy.linalg as spla\n",
    "\n",
    "import time\n",
    "from multiprocessing import Pool, cpu_count\n",
    "# from functools import partial\n",
    "import collections\n",
    "import os\n",
    "import math\n",
    "\n",
    "n_processors = cpu_count()\n",
    "\n",
    "# read file\n",
    "file = 'mesh_2D_level1.mat'\n",
    "coordinates = 'coords'\n",
    "elements = 'elems'\n",
    "\n",
    "mesh = mesh_coordinates = io.loadmat(file)\n"
   ]
  },
  {
   "cell_type": "code",
   "execution_count": 8,
   "metadata": {},
   "outputs": [],
   "source": [
    "\"\"\"\n",
    "mesh structure in Matlab\n",
    "              dim: 2\n",
    "      nodes2coord: [12545×2 double]\n",
    "      nodes2elems: [12545×6 double]\n",
    "      elems2nodes: [24576×3 double]\n",
    "    nodesBoundary: [512×1 double]\n",
    "    nodesInternal: [12033×1 double]\n",
    "        nodesFree: [12033×1 double]\n",
    "      Grad1_elems: [24576×3 double]\n",
    "      Grad2_elems: [24576×3 double]\n",
    "            areas: [24576×1 double]\n",
    "             Hstr: [12545×12545 double]\n",
    "\"\"\"\n",
    "mesh_python = {\"dim\": mesh['mesh'][0][0][0],\n",
    "                \"nodes2coord\": mesh['mesh'][0][0][1],\n",
    "                \"nodes2elems\": mesh['mesh'][0][0][2],\n",
    "                \"elems2nodes\": mesh['mesh'][0][0][3],\n",
    "                \"nodesBoundary\": mesh['mesh'][0][0][4],\n",
    "                \"nodesInternal\": mesh['mesh'][0][0][5],\n",
    "                \"nodesFree\": mesh['mesh'][0][0][6],\n",
    "                \"Grad1_elems\": mesh['mesh'][0][0][7],\n",
    "                \"Grad2_elems\": mesh['mesh'][0][0][8],\n",
    "                \"areas\": mesh['mesh'][0][0][9],\n",
    "                \"Hstr\": mesh['mesh'][0][0][10]}\n"
   ]
  },
  {
   "cell_type": "code",
   "execution_count": 2,
   "metadata": {},
   "outputs": [
    {
     "name": "stdout",
     "output_type": "stream",
     "text": [
      "no.nodes: 21, no.elements: 24, dim: 2\n"
     ]
    }
   ],
   "source": [
    "mesh_coordinates = mesh_python['nodes2coord']\n",
    "mesh_elements = mesh_python['elems2nodes']\n",
    "n_n = mesh_coordinates.shape[0]        # number of nodes\n",
    "n_e = mesh_elements.shape[0]           # number of element\n",
    "dim = mesh_coordinates.shape[1]        # dimension\n",
    "print(f'no.nodes: {n_n}, no.elements: {n_e}, dim: {dim}')\n"
   ]
  },
  {
   "cell_type": "code",
   "execution_count": 4,
   "metadata": {},
   "outputs": [
    {
     "name": "stdout",
     "output_type": "stream",
     "text": [
      "[0.25 0.25 0.25 0.25 0.25 0.25 0.25 0.25 0.25 0.25 0.25 0.25 0.25 0.25\n",
      " 0.25 0.25 0.25 0.25 0.25 0.25 0.25 0.25 0.25 0.25]\n",
      "1.0\n",
      "--single process - 0.049840450286865234 seconds ---\n"
     ]
    }
   ],
   "source": [
    "\n",
    "# print(mesh_coordinates.shape)\n",
    "# print(mesh_elements.shape)\n",
    "\n",
    "# coords 3D matice\n",
    "# single process\n",
    "\n",
    "start_time = time.time()\n",
    "\n",
    "coords3D = np.zeros((dim, dim, n_e))\n",
    "det_coords3D = np.zeros(n_e)\n",
    "inv_coords3D = np.zeros((dim, dim, n_e))\n",
    "\n",
    "for el in range(0, n_e):\n",
    "    nodes = mesh_elements[el]\n",
    "    coordinates = mesh_coordinates[nodes - 1, :]\n",
    "    for comp in range(dim):\n",
    "        coords3D[comp, :, el] = coordinates[comp + 1, :] - coordinates[0, :]\n",
    "\n",
    "    det_coords3D[el] = np.linalg.det(coords3D[:, :, el])\n",
    "    inv_coords3D[:, :, el] = np.linalg.inv(coords3D[:, :, el])\n",
    "\n",
    "print(det_coords3D)\n",
    "print(sum(det_coords3D) / 6)\n",
    "print(\"--single process - %s seconds ---\" % (time.time() - start_time))\n"
   ]
  }
 ],
 "metadata": {
  "kernelspec": {
   "display_name": "Python 3",
   "language": "python",
   "name": "python3"
  },
  "language_info": {
   "codemirror_mode": {
    "name": "ipython",
    "version": 3
   },
   "file_extension": ".py",
   "mimetype": "text/x-python",
   "name": "python",
   "nbconvert_exporter": "python",
   "pygments_lexer": "ipython3",
   "version": "3.11.3"
  },
  "orig_nbformat": 4
 },
 "nbformat": 4,
 "nbformat_minor": 2
}
