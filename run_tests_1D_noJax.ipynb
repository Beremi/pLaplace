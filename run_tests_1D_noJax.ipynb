{
 "cells": [
  {
   "cell_type": "code",
   "execution_count": null,
   "metadata": {},
   "outputs": [],
   "source": [
    "from pLaplace_1D import test_runner_1D\n",
    "\n",
    "# all possible types of inputs (not all combinations allowed)\n",
    "_ = [\"numpy\", \"numba\", \"jax\", \"none\"]  # \"val_grad\"\n",
    "_ = [\"Laplace\", \"SFD\", \"dense\", \"sparse\"]  # \"hess\"\n",
    "_ = [\"my_newton\", \"my_trust_region\",\n",
    "     \"scipy_trust-exact\", \"scipy_Newton-CG\", \"scipy_BFGS\", \"scipy_L-BFGS-B\"]  # \"minimizer\"\n",
    "_ = [\"zero\", \"laplace\"]  # \"initial_guess\"\n",
    "\n",
    "problem_setting = {\"p\": 3,   # p in pLaplace\n",
    "                   \"a\": -1,  # left bound of computational domain\n",
    "                   \"b\": 1,   # right bound of computational domain\n",
    "                   \"f\": \"default\"}  # source term, constant 10\n",
    "\n",
    "sizes = [10, 100, 1000]\n"
   ]
  },
  {
   "cell_type": "markdown",
   "metadata": {},
   "source": [
    "**-16.865480854231357**"
   ]
  },
  {
   "attachments": {},
   "cell_type": "markdown",
   "metadata": {},
   "source": [
    "# Conclusions first\n",
    "- fastest value and grad evaluation have numba (rewrite of matlab code)\n",
    "- fastest method without the use of user provided hessian is `L-BFGS-B` (scipy)\n",
    "- method similar to the \"best\" in the matlab code is `Newton-CG` (scipy) with approximation of hessian using numrical differentiation SFD (rewrite of matlab code)\n",
    "- fastest method overall is my implementation of `newton` with linesearch using golden section with Laplace as a constant approximation of the hessian "
   ]
  },
  {
   "cell_type": "code",
   "execution_count": null,
   "metadata": {},
   "outputs": [],
   "source": [
    "all_solvers = []\n",
    "all_solvers.append({\"val_grad\": \"numba\",\n",
    "                    \"hess\": \"none\",\n",
    "                    \"minimizer\": [\"scipy_L-BFGS-B\"],\n",
    "                    \"initial_guess\": \"zero\",\n",
    "                    \"problem_setting\": problem_setting,\n",
    "                    \"sizes\": sizes})\n",
    "all_solvers.append({\"val_grad\": \"numba\",\n",
    "                    \"hess\": \"SFD\",\n",
    "                    \"minimizer\": [\"scipy_Newton-CG_hessp\"],\n",
    "                    \"initial_guess\": \"zero\",\n",
    "                    \"problem_setting\": problem_setting,\n",
    "                    \"sizes\": sizes})\n",
    "all_solvers.append({\"val_grad\": \"numba\",\n",
    "                    \"hess\": \"Laplace\",\n",
    "                    \"minimizer\": [\"my_newton\"],\n",
    "                    \"initial_guess\": \"zero\",\n",
    "                    \"problem_setting\": problem_setting,\n",
    "                    \"sizes\": sizes})\n",
    "results = test_runner_1D.test_runner_1D(all_solvers)\n",
    "iterations_df, f_val_df, compile_df, solve_df, combined_time_df, combined_df, combined_df2 = test_runner_1D.create_tables(\n",
    "    results, display_table=\"Ipython\")\n"
   ]
  },
  {
   "cell_type": "code",
   "execution_count": null,
   "metadata": {},
   "outputs": [],
   "source": [
    "print(combined_df2.to_latex(index=False))\n"
   ]
  },
  {
   "cell_type": "code",
   "execution_count": null,
   "metadata": {},
   "outputs": [],
   "source": [
    "all_solvers = []\n",
    "all_solvers.append({\"val_grad\": \"numba\",\n",
    "                    \"hess\": \"SFD\",\n",
    "                    \"minimizer\": [\"my_newton\", \"my_trust_region\"],\n",
    "                    \"initial_guess\": \"zero\",\n",
    "                    \"problem_setting\": problem_setting,\n",
    "                    \"sizes\": sizes})\n",
    "all_solvers.append({\"val_grad\": \"numba\",\n",
    "                    \"hess\": \"Laplace\",\n",
    "                    \"minimizer\": [\"my_newton\", \"my_trust_region\"],\n",
    "                    \"initial_guess\": \"zero\",\n",
    "                    \"problem_setting\": problem_setting,\n",
    "                    \"sizes\": sizes})\n",
    "all_solvers.append({\"val_grad\": \"numba\",\n",
    "                    \"hess\": \"SFD\",\n",
    "                    \"minimizer\": [\"my_newton\", \"my_trust_region\"],\n",
    "                    \"initial_guess\": \"laplace\",\n",
    "                    \"problem_setting\": problem_setting,\n",
    "                    \"sizes\": sizes})\n",
    "all_solvers.append({\"val_grad\": \"numba\",\n",
    "                    \"hess\": \"Laplace\",\n",
    "                    \"minimizer\": [\"my_newton\", \"my_trust_region\"],\n",
    "                    \"initial_guess\": \"laplace\",\n",
    "                    \"problem_setting\": problem_setting,\n",
    "                    \"sizes\": sizes})\n",
    "results = test_runner_1D.test_runner_1D(all_solvers)\n",
    "iterations_df, f_val_df, compile_df, solve_df, combined_time_df, combined_df, combined_df2 = test_runner_1D.create_tables(\n",
    "    results, display_table=\"Ipython\")\n"
   ]
  },
  {
   "attachments": {},
   "cell_type": "markdown",
   "metadata": {},
   "source": [
    "# Solvers with only grad information\n",
    "## Comparison of implementations (numpy vs numba)"
   ]
  },
  {
   "cell_type": "code",
   "execution_count": null,
   "metadata": {},
   "outputs": [],
   "source": [
    "all_solvers = []\n",
    "all_solvers.append({\"val_grad\": \"numpy\",\n",
    "                    \"hess\": \"none\",\n",
    "                    \"minimizer\": [\"scipy_L-BFGS-B\"],\n",
    "                    \"initial_guess\": \"zero\",\n",
    "                    \"problem_setting\": problem_setting,\n",
    "                    \"sizes\": sizes})\n",
    "all_solvers.append({\"val_grad\": \"numba\",\n",
    "                    \"hess\": \"none\",\n",
    "                    \"minimizer\": [\"scipy_L-BFGS-B\"],\n",
    "                    \"initial_guess\": \"zero\",\n",
    "                    \"problem_setting\": problem_setting,\n",
    "                    \"sizes\": sizes})\n",
    "results = test_runner_1D.test_runner_1D(all_solvers)\n",
    "iterations_df, f_val_df, compile_df, solve_df, combined_time_df, combined_df, combined_df2 = test_runner_1D.create_tables(\n",
    "    results, display_table=\"Ipython\")\n"
   ]
  },
  {
   "attachments": {},
   "cell_type": "markdown",
   "metadata": {},
   "source": [
    "## For numba a comparison of multiple minimizators"
   ]
  },
  {
   "cell_type": "code",
   "execution_count": null,
   "metadata": {},
   "outputs": [],
   "source": [
    "all_solvers = []\n",
    "all_solvers.append({\"val_grad\": \"numba\",\n",
    "                    \"hess\": \"SFD\",\n",
    "                    \"minimizer\": [\"scipy_TNC\", \"scipy_BFGS\", \"scipy_CG\", \"scipy_L-BFGS-B\"],\n",
    "                    \"initial_guess\": \"zero\",\n",
    "                    \"problem_setting\": problem_setting,\n",
    "                    \"sizes\": sizes})\n",
    "results = test_runner_1D.test_runner_1D(all_solvers)\n",
    "iterations_df, f_val_df, compile_df, solve_df, combined_time_df, combined_df, combined_df2 = test_runner_1D.create_tables(\n",
    "    results, display_table=\"Ipython\")\n"
   ]
  },
  {
   "attachments": {},
   "cell_type": "markdown",
   "metadata": {},
   "source": [
    "# Solvers using hessians \n",
    "**in scipy**\n",
    "- `trust-exact` needs dense matrix, no reasonable warkaround\n",
    "- `newton-cg` needs hessian-vector product\n",
    "\n",
    "**own implementation of trust region method**\n",
    "\n",
    "## Comparison of multiple implementation of Hessian approximation\n",
    "- approx using SDF (copy of matlab code)\n",
    "- constant approximation using Laplace (p=2)"
   ]
  },
  {
   "attachments": {},
   "cell_type": "markdown",
   "metadata": {},
   "source": [
    "# Comparison of implementations (numpy vs numba)\n",
    " - for trust region\n",
    " - also for newton method as both SFD and Laplace converge"
   ]
  },
  {
   "cell_type": "code",
   "execution_count": null,
   "metadata": {},
   "outputs": [],
   "source": [
    "all_solvers = []\n",
    "all_solvers.append({\"val_grad\": \"numpy\",\n",
    "                    \"hess\": \"Laplace\",\n",
    "                    \"minimizer\": [\"my_newton\", \"my_trust_region\"],\n",
    "                    \"initial_guess\": \"zero\",\n",
    "                    \"problem_setting\": problem_setting,\n",
    "                    \"sizes\": sizes})\n",
    "all_solvers.append({\"val_grad\": \"numba\",\n",
    "                    \"hess\": \"Laplace\",\n",
    "                    \"minimizer\": [\"my_newton\", \"my_trust_region\"],\n",
    "                    \"initial_guess\": \"zero\",\n",
    "                    \"problem_setting\": problem_setting,\n",
    "                    \"sizes\": sizes})\n",
    "all_solvers.append({\"val_grad\": \"numpy\",\n",
    "                    \"hess\": \"SFD\",\n",
    "                    \"minimizer\": [\"my_newton\", \"my_trust_region\"],\n",
    "                    \"initial_guess\": \"zero\",\n",
    "                    \"problem_setting\": problem_setting,\n",
    "                    \"sizes\": sizes})\n",
    "all_solvers.append({\"val_grad\": \"numba\",\n",
    "                    \"hess\": \"SFD\",\n",
    "                    \"minimizer\": [\"my_newton\", \"my_trust_region\"],\n",
    "                    \"initial_guess\": \"zero\",\n",
    "                    \"problem_setting\": problem_setting,\n",
    "                    \"sizes\": sizes})\n",
    "results = test_runner_1D.test_runner_1D(all_solvers)\n",
    "iterations_df, f_val_df, compile_df, solve_df, combined_time_df, combined_df, combined_df2 = test_runner_1D.create_tables(\n",
    "    results, display_table=\"Ipython\")\n"
   ]
  },
  {
   "attachments": {},
   "cell_type": "markdown",
   "metadata": {},
   "source": [
    "# Initial guess as solution of Laplace (p=2)\n",
    "Exact hessian (in jax autodiff) very much strougle when starting from 0. It is in orders of magnitude faster when starting from initial guess as solution of Laplace (p=2) (which is cheap in comparison)."
   ]
  },
  {
   "cell_type": "code",
   "execution_count": null,
   "metadata": {},
   "outputs": [],
   "source": [
    "all_solvers = []\n",
    "all_solvers.append({\"val_grad\": \"numpy\",\n",
    "                    \"hess\": \"Laplace\",\n",
    "                    \"minimizer\": [\"my_newton\", \"my_trust_region\"],\n",
    "                    \"initial_guess\": \"laplace\",\n",
    "                    \"problem_setting\": problem_setting,\n",
    "                    \"sizes\": sizes})\n",
    "all_solvers.append({\"val_grad\": \"numba\",\n",
    "                    \"hess\": \"Laplace\",\n",
    "                    \"minimizer\": [\"my_newton\", \"my_trust_region\"],\n",
    "                    \"initial_guess\": \"laplace\",\n",
    "                    \"problem_setting\": problem_setting,\n",
    "                    \"sizes\": sizes})\n",
    "all_solvers.append({\"val_grad\": \"numpy\",\n",
    "                    \"hess\": \"SFD\",\n",
    "                    \"minimizer\": [\"my_newton\", \"my_trust_region\"],\n",
    "                    \"initial_guess\": \"laplace\",\n",
    "                    \"problem_setting\": problem_setting,\n",
    "                    \"sizes\": sizes})\n",
    "all_solvers.append({\"val_grad\": \"numba\",\n",
    "                    \"hess\": \"SFD\",\n",
    "                    \"minimizer\": [\"my_newton\", \"my_trust_region\"],\n",
    "                    \"initial_guess\": \"laplace\",\n",
    "                    \"problem_setting\": problem_setting,\n",
    "                    \"sizes\": sizes})\n",
    "results = test_runner_1D.test_runner_1D(all_solvers)\n",
    "iterations_df, f_val_df, compile_df, solve_df, combined_time_df, combined_df, combined_df2 = test_runner_1D.create_tables(\n",
    "    results, display_table=\"Ipython\")\n"
   ]
  }
 ],
 "metadata": {
  "kernelspec": {
   "display_name": "Python 3",
   "language": "python",
   "name": "python3"
  },
  "language_info": {
   "codemirror_mode": {
    "name": "ipython",
    "version": 3
   },
   "file_extension": ".py",
   "mimetype": "text/x-python",
   "name": "python",
   "nbconvert_exporter": "python",
   "pygments_lexer": "ipython3",
   "version": "3.11.3"
  },
  "orig_nbformat": 4
 },
 "nbformat": 4,
 "nbformat_minor": 2
}
