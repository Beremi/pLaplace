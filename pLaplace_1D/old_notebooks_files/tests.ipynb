{
 "cells": [
  {
   "cell_type": "code",
   "execution_count": 4,
   "metadata": {},
   "outputs": [
    {
     "data": {
      "text/plain": [
       "['__class__',\n",
       " '__class_getitem__',\n",
       " '__contains__',\n",
       " '__delattr__',\n",
       " '__delitem__',\n",
       " '__dict__',\n",
       " '__dir__',\n",
       " '__doc__',\n",
       " '__eq__',\n",
       " '__format__',\n",
       " '__ge__',\n",
       " '__getattr__',\n",
       " '__getattribute__',\n",
       " '__getitem__',\n",
       " '__getstate__',\n",
       " '__gt__',\n",
       " '__hash__',\n",
       " '__init__',\n",
       " '__init_subclass__',\n",
       " '__ior__',\n",
       " '__iter__',\n",
       " '__le__',\n",
       " '__len__',\n",
       " '__lt__',\n",
       " '__module__',\n",
       " '__ne__',\n",
       " '__new__',\n",
       " '__or__',\n",
       " '__reduce__',\n",
       " '__reduce_ex__',\n",
       " '__repr__',\n",
       " '__reversed__',\n",
       " '__ror__',\n",
       " '__setattr__',\n",
       " '__setitem__',\n",
       " '__sizeof__',\n",
       " '__str__',\n",
       " '__subclasshook__',\n",
       " '__weakref__',\n",
       " 'clear',\n",
       " 'copy',\n",
       " 'fromkeys',\n",
       " 'get',\n",
       " 'items',\n",
       " 'keys',\n",
       " 'pop',\n",
       " 'popitem',\n",
       " 'setdefault',\n",
       " 'update',\n",
       " 'values']"
      ]
     },
     "execution_count": 4,
     "metadata": {},
     "output_type": "execute_result"
    }
   ],
   "source": [
    "from scipy.optimize._optimize import OptimizeResult as opt\n",
    "dir(opt)"
   ]
  },
  {
   "cell_type": "code",
   "execution_count": 1,
   "metadata": {},
   "outputs": [
    {
     "name": "stdout",
     "output_type": "stream",
     "text": [
      "[False  True False  True  True False False False False  True]\n"
     ]
    }
   ],
   "source": [
    "import numpy as np\n",
    "\n",
    "# example arrays\n",
    "arr1 = np.array([1, 2, 3, 2, 4, 5, 3, 1, 5, 6])\n",
    "arr2 = np.array([2, 4, 6])\n",
    "\n",
    "# create mask\n",
    "mask = np.in1d(arr1, arr2)\n",
    "\n",
    "print(mask)\n"
   ]
  },
  {
   "cell_type": "code",
   "execution_count": 3,
   "metadata": {},
   "outputs": [
    {
     "data": {
      "text/plain": [
       "array([False,  True, False,  True,  True, False, False, False, False,\n",
       "        True])"
      ]
     },
     "execution_count": 3,
     "metadata": {},
     "output_type": "execute_result"
    }
   ],
   "source": [
    "arr1 = np.array([1, 2, 3, 2, 4, 5, 3, 1, 5, 6])\n",
    "mask = np.array([0, 0, 1, 0, 1, 0, 1, 0, 0, 1]).astype(bool)\n",
    "mask[arr1]\n"
   ]
  },
  {
   "cell_type": "code",
   "execution_count": 4,
   "metadata": {},
   "outputs": [],
   "source": [
    "from scipy.sparse import lil_matrix  # type: ignore\n",
    "from scipy.sparse.csgraph import reverse_cuthill_mckee  # type: ignore\n",
    "import numpy as np\n",
    "import scipy.sparse as sp\n"
   ]
  },
  {
   "cell_type": "code",
   "execution_count": null,
   "metadata": {},
   "outputs": [],
   "source": [
    "def sfd(x, grad, Hstr, group, dx):\n",
    "    xcurr = x.flatten()\n",
    "    m, n = Hstr.shape\n",
    "    v = np.zeros(n)\n",
    "    ncol = np.max(group)\n",
    "\n",
    "    alpha = 1e-7 * np.ones(ncol)\n",
    "\n",
    "    #H = lil_matrix(Hstr != 0, dtype=float)  # Equivalent of MATLAB's spones\n",
    "    rowH, colH = Hstr.nonzero()\n",
    "    all_new_rows = []\n",
    "    all_new_cols = []\n",
    "    all_new_data = []\n",
    "    for k in range(ncol):\n",
    "        d = (group == k + 1)\n",
    "\n",
    "        xnrm = max(np.linalg.norm(xcurr[d]), 1)  # type: ignore\n",
    "        alpha[k] *= xnrm\n",
    "        y = xcurr + alpha[k] * d\n",
    "\n",
    "        v = dx(y)\n",
    "        w = (v - grad) / alpha[k]\n",
    "        mask_H_cols = d[colH]\n",
    "\n",
    "        new_rows = rowH[mask_H_cols]\n",
    "        new_cols = colH[mask_H_cols]\n",
    "        new_data = w[new_rows]\n",
    "        all_new_rows.append(new_rows)\n",
    "        all_new_cols.append(new_cols)\n",
    "        all_new_data.append(new_data)\n",
    "\n",
    "    new_rows_singe_array = np.concatenate(all_new_rows + all_new_cols)\n",
    "    new_cols_singe_array = np.concatenate(all_new_cols + all_new_rows)\n",
    "    new_data_singe_array = np.concatenate(all_new_data + all_new_data) / 2\n",
    "    print(np.min(alpha))\n",
    "    H = sp.csc_matrix((new_data_singe_array, (new_rows_singe_array, new_cols_singe_array)), shape=(m, n))  # type: ignore\n",
    "    return H\n"
   ]
  },
  {
   "cell_type": "code",
   "execution_count": 5,
   "metadata": {},
   "outputs": [
    {
     "data": {
      "text/plain": [
       "[1, 3, 5, 7, 9, 2, 4, 6, 8, 10]"
      ]
     },
     "execution_count": 5,
     "metadata": {},
     "output_type": "execute_result"
    }
   ],
   "source": [
    "a = [1 , 3 , 5 , 7 , 9]\n",
    "b = [2 , 4 , 6 , 8 , 10]\n",
    "a + b"
   ]
  },
  {
   "cell_type": "code",
   "execution_count": 1,
   "metadata": {},
   "outputs": [
    {
     "data": {
      "text/plain": [
       "<function scipy.sparse.linalg._dsolve.linsolve.factorized(A)>"
      ]
     },
     "execution_count": 1,
     "metadata": {},
     "output_type": "execute_result"
    }
   ],
   "source": [
    "from scipy.sparse.linalg import factorized\n",
    "factorized\n"
   ]
  },
  {
   "cell_type": "code",
   "execution_count": 7,
   "metadata": {},
   "outputs": [
    {
     "name": "stdout",
     "output_type": "stream",
     "text": [
      "Defaulting to user installation because normal site-packages is not writeable\n",
      "Looking in links: /tmp/tmpzjr3b90n\n",
      "Requirement already satisfied: setuptools in /usr/lib/python3.11/site-packages (67.7.0)\n",
      "Requirement already satisfied: pip in /usr/lib/python3.11/site-packages (23.1.2)\n",
      "Requirement already satisfied: platformdirs in /usr/lib/python3.11/site-packages (from setuptools) (3.5.1)\n",
      "Requirement already satisfied: jaraco.text in /usr/lib/python3.11/site-packages (from setuptools) (3.11.1)\n",
      "Requirement already satisfied: more-itertools in /usr/lib/python3.11/site-packages (from setuptools) (9.1.0)\n",
      "Requirement already satisfied: ordered-set in /usr/lib/python3.11/site-packages (from setuptools) (4.1.0)\n",
      "Requirement already satisfied: packaging in /usr/lib/python3.11/site-packages (from setuptools) (23.1)\n",
      "Requirement already satisfied: tomli in /usr/lib/python3.11/site-packages (from setuptools) (2.0.1)\n",
      "Requirement already satisfied: validate-pyproject in /usr/lib/python3.11/site-packages (from setuptools) (0.12.2.post1.dev0+g2940279.d20230508)\n",
      "Requirement already satisfied: jaraco.functools in /usr/lib/python3.11/site-packages (from jaraco.text->setuptools) (3.6.0)\n",
      "Requirement already satisfied: jaraco.context>=4.1 in /usr/lib/python3.11/site-packages (from jaraco.text->setuptools) (4.3.0)\n",
      "Requirement already satisfied: autocommand in /usr/lib/python3.11/site-packages (from jaraco.text->setuptools) (2.2.2)\n",
      "Requirement already satisfied: inflect in /usr/lib/python3.11/site-packages (from jaraco.text->setuptools) (6.0.4)\n",
      "Requirement already satisfied: fastjsonschema<=3,>=2.16.2 in /usr/lib/python3.11/site-packages (from validate-pyproject->setuptools) (2.16.3)\n",
      "Requirement already satisfied: pydantic>=1.9.1 in /usr/lib/python3.11/site-packages (from inflect->jaraco.text->setuptools) (1.10.7)\n",
      "Requirement already satisfied: typing-extensions>=4.2.0 in /usr/lib/python3.11/site-packages (from pydantic>=1.9.1->inflect->jaraco.text->setuptools) (4.5.0)\n"
     ]
    }
   ],
   "source": [
    "!python -m ensurepip --upgrade"
   ]
  },
  {
   "cell_type": "code",
   "execution_count": 8,
   "metadata": {},
   "outputs": [
    {
     "name": "stdout",
     "output_type": "stream",
     "text": [
      "Defaulting to user installation because normal site-packages is not writeable\n",
      "Collecting cyipopt\n",
      "  Using cached cyipopt-1.2.0.tar.gz (46 kB)\n",
      "  Installing build dependencies ... \u001b[?25ldone\n",
      "\u001b[?25h  Getting requirements to build wheel ... \u001b[?25lerror\n",
      "  \u001b[1;31merror\u001b[0m: \u001b[1msubprocess-exited-with-error\u001b[0m\n",
      "  \n",
      "  \u001b[31m×\u001b[0m \u001b[32mGetting requirements to build wheel\u001b[0m did not run successfully.\n",
      "  \u001b[31m│\u001b[0m exit code: \u001b[1;36m1\u001b[0m\n",
      "  \u001b[31m╰─>\u001b[0m \u001b[31m[60 lines of output]\u001b[0m\n",
      "  \u001b[31m   \u001b[0m <string>:26: _DeprecatedInstaller: setuptools.installer and fetch_build_eggs are deprecated.\n",
      "  \u001b[31m   \u001b[0m !!\n",
      "  \u001b[31m   \u001b[0m \n",
      "  \u001b[31m   \u001b[0m         ********************************************************************************\n",
      "  \u001b[31m   \u001b[0m         Requirements should be satisfied by a PEP 517 installer.\n",
      "  \u001b[31m   \u001b[0m         If you are using pip, you can try `pip install --use-pep517`.\n",
      "  \u001b[31m   \u001b[0m         ********************************************************************************\n",
      "  \u001b[31m   \u001b[0m \n",
      "  \u001b[31m   \u001b[0m !!\n",
      "  \u001b[31m   \u001b[0m /usr/bin/python: No module named pip\n",
      "  \u001b[31m   \u001b[0m Traceback (most recent call last):\n",
      "  \u001b[31m   \u001b[0m   File \"/tmp/pip-build-env-ybwgfhni/overlay/lib/python3.11/site-packages/setuptools/installer.py\", line 96, in _fetch_build_egg_no_warn\n",
      "  \u001b[31m   \u001b[0m     subprocess.check_call(cmd)\n",
      "  \u001b[31m   \u001b[0m   File \"/usr/lib/python3.11/subprocess.py\", line 413, in check_call\n",
      "  \u001b[31m   \u001b[0m     raise CalledProcessError(retcode, cmd)\n",
      "  \u001b[31m   \u001b[0m subprocess.CalledProcessError: Command '['/usr/bin/python', '-m', 'pip', '--disable-pip-version-check', 'wheel', '--no-deps', '-w', '/tmp/tmpjbvrubh9', '--quiet', 'numpy>=1.15']' returned non-zero exit status 1.\n",
      "  \u001b[31m   \u001b[0m \n",
      "  \u001b[31m   \u001b[0m The above exception was the direct cause of the following exception:\n",
      "  \u001b[31m   \u001b[0m \n",
      "  \u001b[31m   \u001b[0m Traceback (most recent call last):\n",
      "  \u001b[31m   \u001b[0m   File \"/usr/lib/python3.11/site-packages/pip/_vendor/pyproject_hooks/_in_process/_in_process.py\", line 353, in <module>\n",
      "  \u001b[31m   \u001b[0m     main()\n",
      "  \u001b[31m   \u001b[0m   File \"/usr/lib/python3.11/site-packages/pip/_vendor/pyproject_hooks/_in_process/_in_process.py\", line 335, in main\n",
      "  \u001b[31m   \u001b[0m     json_out['return_val'] = hook(**hook_input['kwargs'])\n",
      "  \u001b[31m   \u001b[0m                              ^^^^^^^^^^^^^^^^^^^^^^^^^^^^\n",
      "  \u001b[31m   \u001b[0m   File \"/usr/lib/python3.11/site-packages/pip/_vendor/pyproject_hooks/_in_process/_in_process.py\", line 118, in get_requires_for_build_wheel\n",
      "  \u001b[31m   \u001b[0m     return hook(config_settings)\n",
      "  \u001b[31m   \u001b[0m            ^^^^^^^^^^^^^^^^^^^^^\n",
      "  \u001b[31m   \u001b[0m   File \"/tmp/pip-build-env-ybwgfhni/overlay/lib/python3.11/site-packages/setuptools/build_meta.py\", line 341, in get_requires_for_build_wheel\n",
      "  \u001b[31m   \u001b[0m     return self._get_build_requires(config_settings, requirements=['wheel'])\n",
      "  \u001b[31m   \u001b[0m            ^^^^^^^^^^^^^^^^^^^^^^^^^^^^^^^^^^^^^^^^^^^^^^^^^^^^^^^^^^^^^^^^^\n",
      "  \u001b[31m   \u001b[0m   File \"/tmp/pip-build-env-ybwgfhni/overlay/lib/python3.11/site-packages/setuptools/build_meta.py\", line 323, in _get_build_requires\n",
      "  \u001b[31m   \u001b[0m     self.run_setup()\n",
      "  \u001b[31m   \u001b[0m   File \"/tmp/pip-build-env-ybwgfhni/overlay/lib/python3.11/site-packages/setuptools/build_meta.py\", line 488, in run_setup\n",
      "  \u001b[31m   \u001b[0m     self).run_setup(setup_script=setup_script)\n",
      "  \u001b[31m   \u001b[0m           ^^^^^^^^^^^^^^^^^^^^^^^^^^^^^^^^^^^^\n",
      "  \u001b[31m   \u001b[0m   File \"/tmp/pip-build-env-ybwgfhni/overlay/lib/python3.11/site-packages/setuptools/build_meta.py\", line 338, in run_setup\n",
      "  \u001b[31m   \u001b[0m     exec(code, locals())\n",
      "  \u001b[31m   \u001b[0m   File \"<string>\", line 26, in <module>\n",
      "  \u001b[31m   \u001b[0m   File \"/tmp/pip-build-env-ybwgfhni/overlay/lib/python3.11/site-packages/setuptools/dist.py\", line 907, in fetch_build_eggs\n",
      "  \u001b[31m   \u001b[0m     return _fetch_build_eggs(self, requires)\n",
      "  \u001b[31m   \u001b[0m            ^^^^^^^^^^^^^^^^^^^^^^^^^^^^^^^^^\n",
      "  \u001b[31m   \u001b[0m   File \"/tmp/pip-build-env-ybwgfhni/overlay/lib/python3.11/site-packages/setuptools/installer.py\", line 38, in _fetch_build_eggs\n",
      "  \u001b[31m   \u001b[0m     resolved_dists = pkg_resources.working_set.resolve(\n",
      "  \u001b[31m   \u001b[0m                      ^^^^^^^^^^^^^^^^^^^^^^^^^^^^^^^^^^\n",
      "  \u001b[31m   \u001b[0m   File \"/tmp/pip-build-env-ybwgfhni/overlay/lib/python3.11/site-packages/pkg_resources/__init__.py\", line 829, in resolve\n",
      "  \u001b[31m   \u001b[0m     dist = self._resolve_dist(\n",
      "  \u001b[31m   \u001b[0m            ^^^^^^^^^^^^^^^^^^^\n",
      "  \u001b[31m   \u001b[0m   File \"/tmp/pip-build-env-ybwgfhni/overlay/lib/python3.11/site-packages/pkg_resources/__init__.py\", line 865, in _resolve_dist\n",
      "  \u001b[31m   \u001b[0m     dist = best[req.key] = env.best_match(\n",
      "  \u001b[31m   \u001b[0m                            ^^^^^^^^^^^^^^^\n",
      "  \u001b[31m   \u001b[0m   File \"/tmp/pip-build-env-ybwgfhni/overlay/lib/python3.11/site-packages/pkg_resources/__init__.py\", line 1135, in best_match\n",
      "  \u001b[31m   \u001b[0m     return self.obtain(req, installer)\n",
      "  \u001b[31m   \u001b[0m            ^^^^^^^^^^^^^^^^^^^^^^^^^^^\n",
      "  \u001b[31m   \u001b[0m   File \"/tmp/pip-build-env-ybwgfhni/overlay/lib/python3.11/site-packages/pkg_resources/__init__.py\", line 1147, in obtain\n",
      "  \u001b[31m   \u001b[0m     return installer(requirement)\n",
      "  \u001b[31m   \u001b[0m            ^^^^^^^^^^^^^^^^^^^^^^\n",
      "  \u001b[31m   \u001b[0m   File \"/tmp/pip-build-env-ybwgfhni/overlay/lib/python3.11/site-packages/setuptools/installer.py\", line 98, in _fetch_build_egg_no_warn\n",
      "  \u001b[31m   \u001b[0m     raise DistutilsError(str(e)) from e\n",
      "  \u001b[31m   \u001b[0m distutils.errors.DistutilsError: Command '['/usr/bin/python', '-m', 'pip', '--disable-pip-version-check', 'wheel', '--no-deps', '-w', '/tmp/tmpjbvrubh9', '--quiet', 'numpy>=1.15']' returned non-zero exit status 1.\n",
      "  \u001b[31m   \u001b[0m \u001b[31m[end of output]\u001b[0m\n",
      "  \n",
      "  \u001b[1;35mnote\u001b[0m: This error originates from a subprocess, and is likely not a problem with pip.\n",
      "\u001b[?25h\u001b[1;31merror\u001b[0m: \u001b[1msubprocess-exited-with-error\u001b[0m\n",
      "\n",
      "\u001b[31m×\u001b[0m \u001b[32mGetting requirements to build wheel\u001b[0m did not run successfully.\n",
      "\u001b[31m│\u001b[0m exit code: \u001b[1;36m1\u001b[0m\n",
      "\u001b[31m╰─>\u001b[0m See above for output.\n",
      "\n",
      "\u001b[1;35mnote\u001b[0m: This error originates from a subprocess, and is likely not a problem with pip.\n"
     ]
    }
   ],
   "source": [
    "!pip install --use-pep517 cyipopt"
   ]
  },
  {
   "cell_type": "code",
   "execution_count": 3,
   "metadata": {},
   "outputs": [
    {
     "ename": "ModuleNotFoundError",
     "evalue": "No module named 'cyipopt'",
     "output_type": "error",
     "traceback": [
      "\u001b[0;31m---------------------------------------------------------------------------\u001b[0m",
      "\u001b[0;31mModuleNotFoundError\u001b[0m                       Traceback (most recent call last)",
      "Cell \u001b[0;32mIn[3], line 2\u001b[0m\n\u001b[1;32m      1\u001b[0m \u001b[39mimport\u001b[39;00m \u001b[39mnumpy\u001b[39;00m \u001b[39mas\u001b[39;00m \u001b[39mnp\u001b[39;00m\n\u001b[0;32m----> 2\u001b[0m \u001b[39mimport\u001b[39;00m \u001b[39mcyipopt\u001b[39;00m\n\u001b[1;32m      3\u001b[0m \u001b[39mfrom\u001b[39;00m \u001b[39mscipy\u001b[39;00m\u001b[39m.\u001b[39;00m\u001b[39msparse\u001b[39;00m \u001b[39mimport\u001b[39;00m csc_matrix\n\u001b[1;32m      5\u001b[0m n_variables \u001b[39m=\u001b[39m \u001b[39m10\u001b[39m\n",
      "\u001b[0;31mModuleNotFoundError\u001b[0m: No module named 'cyipopt'"
     ]
    }
   ],
   "source": [
    "import numpy as np\n",
    "import cyipopt\n",
    "from scipy.sparse import csc_matrix\n",
    "\n",
    "n_variables = 10\n",
    "\n",
    "# Objective function\n",
    "\n",
    "\n",
    "def eval_f(x, user_data=None):\n",
    "    return np.sum(x**2)\n",
    "\n",
    "# Gradient of the objective function\n",
    "\n",
    "\n",
    "def eval_grad_f(x, user_data=None):\n",
    "    return 2 * x\n",
    "\n",
    "# Hessian of the objective function\n",
    "\n",
    "\n",
    "def eval_h(x, lagrange, obj_factor, user_data=None):\n",
    "    hessian = obj_factor * 2 * np.eye(n_variables)\n",
    "    return csc_matrix(hessian)  # Return as sparse matrix\n",
    "\n",
    "# Hessian Structure of the objective function\n",
    "\n",
    "\n",
    "def eval_h_structure(n_variables, user_data=None):\n",
    "    iRow = np.arange(n_variables)\n",
    "    jCol = np.arange(n_variables)\n",
    "    return (iRow, jCol)\n",
    "\n",
    "\n",
    "# Define problem\n",
    "nlp = cyipopt.problem(\n",
    "    n=n_variables,\n",
    "    m=0,\n",
    "    problem_obj=cyipopt.PyIpoptProblemSparse(\n",
    "        n=n_variables,\n",
    "        m=0,\n",
    "        eval_f=eval_f,\n",
    "        eval_grad_f=eval_grad_f,\n",
    "        eval_h=eval_h,\n",
    "        eval_h_structure=eval_h_structure,\n",
    "    )\n",
    ")\n",
    "\n",
    "# Initial guess\n",
    "x0 = np.ones(n_variables)\n",
    "\n",
    "# Set lower and upper bounds\n",
    "lb = -np.ones(n_variables)\n",
    "ub = np.ones(n_variables)\n",
    "\n",
    "nlp.add_bounds(lb, ub)\n",
    "\n",
    "# Solve problem\n",
    "x, info = nlp.solve(x0)\n"
   ]
  }
 ],
 "metadata": {
  "kernelspec": {
   "display_name": "Python 3",
   "language": "python",
   "name": "python3"
  },
  "language_info": {
   "codemirror_mode": {
    "name": "ipython",
    "version": 3
   },
   "file_extension": ".py",
   "mimetype": "text/x-python",
   "name": "python",
   "nbconvert_exporter": "python",
   "pygments_lexer": "ipython3",
   "version": "3.11.3"
  },
  "orig_nbformat": 4
 },
 "nbformat": 4,
 "nbformat_minor": 2
}
