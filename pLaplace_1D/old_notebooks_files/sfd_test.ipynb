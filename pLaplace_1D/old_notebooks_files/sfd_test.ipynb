{
 "cells": [
  {
   "cell_type": "code",
   "execution_count": 1,
   "metadata": {},
   "outputs": [],
   "source": [
    "from scipy.sparse import coo_matrix\n",
    "import numpy as np\n",
    "\n",
    "\n",
    "def color(J, p=None):\n",
    "    m, n = J.shape\n",
    "    if p is None:\n",
    "        p = np.arange(n)\n",
    "\n",
    "    J = J[:, p]\n",
    "    group = np.zeros(n, dtype=int)\n",
    "    ncol = 0\n",
    "\n",
    "    while np.any(group == 0):\n",
    "        ncol += 1\n",
    "        rows = np.zeros(m)\n",
    "        index = np.where(group == 0)[0]\n",
    "        lenindex = len(index)\n",
    "        for i in range(lenindex):\n",
    "            k = index[i]\n",
    "            inner = np.inner(J[:, k].todense().ravel(), rows)\n",
    "            if inner == 0:\n",
    "                group[k] = ncol\n",
    "                rows += J[:, k].toarray().flatten()\n",
    "\n",
    "    group[p] = group\n",
    "    return group\n"
   ]
  },
  {
   "cell_type": "code",
   "execution_count": 2,
   "metadata": {},
   "outputs": [],
   "source": [
    "from scipy.sparse import coo_matrix\n",
    "import numpy as np\n",
    "from numpy.linalg import norm\n",
    "\n",
    "\n",
    "def sfd(x, grad, H, group, dx):\n",
    "    xcurr = x.flatten()\n",
    "    m, n = H.shape\n",
    "    v = np.zeros(n)\n",
    "    ncol = np.max(group)\n",
    "\n",
    "    alpha = np.sqrt(np.finfo(float).eps) * np.ones(ncol)\n",
    "\n",
    "    H = coo_matrix(H != 0).toarray()  # Equivalent of MATLAB's spones\n",
    "    for k in range(ncol):\n",
    "        d = (group == k)\n",
    "        xnrm = max(norm(xcurr[d]), 1)\n",
    "        alpha[k] *= xnrm\n",
    "\n",
    "        y = xcurr + alpha[k] * d\n",
    "        x[:] = y\n",
    "\n",
    "        v = dx(x)\n",
    "        w = (v - grad) / alpha[k]\n",
    "        cols = np.where(d)[0]\n",
    "        A = coo_matrix((m, n))\n",
    "        A[:, cols] = H[:, cols]\n",
    "        H[:, cols] -= A[:, cols]\n",
    "\n",
    "        A = coo_matrix((w[A.nonzero()[0]], A.nonzero()), shape=(m, n))\n",
    "        H += A.toarray()\n",
    "\n",
    "    H = (H + H.T) / 2  # Make it symmetric\n",
    "    return H\n"
   ]
  },
  {
   "cell_type": "code",
   "execution_count": 3,
   "metadata": {},
   "outputs": [],
   "source": [
    "from scipy.sparse import diags\n",
    "\n",
    "# create sparse three diagonal matrix\n",
    "def sparse_tridiagonal(n):\n",
    "    \"\"\"Create a three-diagonal CSR matrix with ones on its diagonals.\n",
    "\n",
    "    Args:\n",
    "    n: The number of rows (or columns) in the matrix.\n",
    "\n",
    "    Returns:\n",
    "    The created matrix as a CSR matrix.\n",
    "    \"\"\"\n",
    "    # Create the diagonals\n",
    "    diagonals = np.ones((3, n))\n",
    "    # The main diagonal has offset 0, the diagonals above and below it have offsets -1 and 1, respectively\n",
    "    offsets = [-1, 0, 1]\n",
    "    # Use the `diags` function to create a sparse matrix with these diagonals\n",
    "    matrix = diags(diagonals, offsets, shape=(n, n), format='csr')\n",
    "\n",
    "    return matrix\n",
    "\n",
    "from energy import JaxEnergy"
   ]
  },
  {
   "cell_type": "code",
   "execution_count": 4,
   "metadata": {},
   "outputs": [
    {
     "name": "stderr",
     "output_type": "stream",
     "text": [
      "No GPU/TPU found, falling back to CPU. (Set TF_CPP_MIN_LOG_LEVEL=0 and rerun for more info.)\n"
     ]
    }
   ],
   "source": [
    "p, a, b = 3, -1, 1\n",
    "ne = 10\n",
    "jax_energy = JaxEnergy(p, a, b, ne)\n",
    "f, df, ddf_cls = jax_energy.recompile()\n",
    "x0 = jax_energy.x0\n"
   ]
  },
  {
   "cell_type": "code",
   "execution_count": 5,
   "metadata": {},
   "outputs": [],
   "source": [
    "from scipy.sparse.csgraph import reverse_cuthill_mckee\n",
    "\n",
    "Hstr = sparse_tridiagonal(ne - 1)\n"
   ]
  },
  {
   "cell_type": "code",
   "execution_count": 39,
   "metadata": {},
   "outputs": [
    {
     "data": {
      "text/plain": [
       "array([8, 7, 6, 5, 4, 3, 2, 1, 0], dtype=int32)"
      ]
     },
     "execution_count": 39,
     "metadata": {},
     "output_type": "execute_result"
    }
   ],
   "source": [
    "p = reverse_cuthill_mckee(Hstr)\n",
    "p\n"
   ]
  },
  {
   "cell_type": "code",
   "execution_count": 10,
   "metadata": {},
   "outputs": [
    {
     "data": {
      "text/plain": [
       "array([3, 2, 1, 3, 2, 1, 3, 2, 1])"
      ]
     },
     "execution_count": 10,
     "metadata": {},
     "output_type": "execute_result"
    }
   ],
   "source": [
    "from scipy.sparse import csc_matrix\n",
    "\n",
    "\n",
    "def color(J, p=None):\n",
    "    '''\n",
    "    Column partition for sparse finite differences.\n",
    "\n",
    "    GROUP = COLOR(J,P) returns a partition of the \n",
    "    column corresponding to a coloring of the column-\n",
    "    intersection graph. GROUP(I) = J means column I is \n",
    "    colored J.\n",
    "\n",
    "    All columns belonging to a color can be estimated \n",
    "    in a single finite difference.\n",
    "    '''\n",
    "    m, n = J.shape\n",
    "    if p is None:\n",
    "        p = np.arange(n)\n",
    "\n",
    "    J = csc_matrix(J[:, p])\n",
    "    group = np.zeros(n, dtype=int)\n",
    "    ncol = 0\n",
    "    J = (J != 0).astype(int)  # equivalent to spones(J) in MATLAB\n",
    "\n",
    "    while np.any(group == 0):\n",
    "        # Build group for ncol\n",
    "        ncol += 1\n",
    "        rows = np.zeros(m, dtype=int)\n",
    "        index = np.where(group == 0)[0]\n",
    "        lenindex = len(index)\n",
    "        for k in index:\n",
    "            inner = J[:, k].T @ rows\n",
    "            if inner == 0:\n",
    "                group[k] = ncol\n",
    "                rows += J[:, k].toarray().flatten()\n",
    "    group[p] = group.copy()\n",
    "    return group\n",
    "\n",
    "\n",
    "color(Hstr, p)\n"
   ]
  },
  {
   "cell_type": "code",
   "execution_count": 11,
   "metadata": {},
   "outputs": [
    {
     "data": {
      "text/plain": [
       "array([3, 2, 1, 3, 2, 1, 3, 2, 1])"
      ]
     },
     "execution_count": 11,
     "metadata": {},
     "output_type": "execute_result"
    }
   ],
   "source": [
    "group = color(Hstr, p)\n",
    "group\n"
   ]
  },
  {
   "cell_type": "code",
   "execution_count": 14,
   "metadata": {},
   "outputs": [
    {
     "data": {
      "text/plain": [
       "[<matplotlib.lines.Line2D at 0x7f7807f67ed0>]"
      ]
     },
     "execution_count": 14,
     "metadata": {},
     "output_type": "execute_result"
    },
    {
     "data": {
      "image/png": "[encoded data removed]",
      "text/plain": [
       "<Figure size 640x480 with 1 Axes>"
      ]
     },
     "metadata": {},
     "output_type": "display_data"
    }
   ],
   "source": [
    "import matplotlib.pyplot as plt\n",
    "plt.plot(np.sum(Hstr[:, group==3].todense(), axis=1))"
   ]
  },
  {
   "cell_type": "code",
   "execution_count": 35,
   "metadata": {},
   "outputs": [],
   "source": [
    "from scipy.sparse import lil_matrix\n",
    "\n",
    "\n",
    "def sfd(x, grad, Hstr, group, dx):\n",
    "    xcurr = x.flatten()\n",
    "    m, n = Hstr.shape\n",
    "    v = np.zeros(n)\n",
    "    ncol = np.max(group)\n",
    "\n",
    "    alpha = 1e-6 * np.ones(ncol)\n",
    "\n",
    "    H = lil_matrix(Hstr != 0, dtype=float)  # Equivalent of MATLAB's spones\n",
    "    for k in range(ncol):\n",
    "        d = (group == k + 1)\n",
    "        y = xcurr + alpha[k] * d\n",
    "\n",
    "        v = dx(y)\n",
    "        w = (v - grad) / alpha[k]\n",
    "        cols = np.where(d)[0]\n",
    "        A = lil_matrix((m, n), dtype=float)\n",
    "        A[:, cols] = H[:, cols]\n",
    "        H[:, cols] -= A[:, cols]\n",
    "\n",
    "        row, col = A.nonzero()\n",
    "        A_new = lil_matrix((m, n), dtype=float)\n",
    "        A_new[row, col] = w[row]\n",
    "        H += A_new\n",
    "\n",
    "    H = (H + H.T) / 2  # Make it symmetric\n",
    "    return H\n"
   ]
  },
  {
   "cell_type": "code",
   "execution_count": 36,
   "metadata": {},
   "outputs": [],
   "source": [
    "x0=(jax_energy.x**2-1)[1:-1].copy()\n"
   ]
  },
  {
   "cell_type": "code",
   "execution_count": 37,
   "metadata": {},
   "outputs": [
    {
     "data": {
      "image/png": "[encoded data removed]",
      "text/plain": [
       "<Figure size 640x480 with 2 Axes>"
      ]
     },
     "metadata": {},
     "output_type": "display_data"
    }
   ],
   "source": [
    "H = sfd(np.array(x0), df(x0), Hstr, group, df)\n",
    "plt.imshow(H.todense())\n",
    "plt.colorbar()\n",
    "plt.show()"
   ]
  },
  {
   "cell_type": "code",
   "execution_count": 28,
   "metadata": {},
   "outputs": [
    {
     "data": {
      "text/plain": [
       "1.4901161193847656e-08"
      ]
     },
     "execution_count": 28,
     "metadata": {},
     "output_type": "execute_result"
    }
   ],
   "source": [
    "np.sqrt(np.finfo(float).eps)\n"
   ]
  },
  {
   "cell_type": "code",
   "execution_count": 18,
   "metadata": {},
   "outputs": [
    {
     "data": {
      "image/png": "[encoded data removed]",
      "text/plain": [
       "<Figure size 640x480 with 2 Axes>"
      ]
     },
     "metadata": {},
     "output_type": "display_data"
    }
   ],
   "source": [
    "H_jax = ddf_cls(x0)\n",
    "H_jax.H\n",
    "plt.imshow(H_jax.H)\n",
    "plt.colorbar()\n",
    "plt.show()"
   ]
  },
  {
   "cell_type": "code",
   "execution_count": 44,
   "metadata": {},
   "outputs": [],
   "source": [
    "from scipy.sparse import find\n",
    "\n",
    "\n",
    "def sfd(x, grad, H, group, dx):\n",
    "    xcurr = x.flatten()\n",
    "    m, n = H.shape\n",
    "    v = np.zeros(n)\n",
    "    ncol = np.max(group)\n",
    "\n",
    "    alpha = np.sqrt(np.finfo(float).eps) * np.ones(ncol)\n",
    "\n",
    "    H = lil_matrix(H != 0)  # Equivalent of MATLAB's spones\n",
    "    for k in range(ncol):\n",
    "        d = (group == (k+1))\n",
    "        xnrm = max(norm(xcurr[d]), 1)\n",
    "        alpha[k] *= xnrm\n",
    "\n",
    "        y = xcurr + alpha[k] * d\n",
    "        x[:] = y\n",
    "\n",
    "        v = dx(x)\n",
    "        w = (v - grad) / alpha[k]\n",
    "        cols = np.where(d)[0]\n",
    "        A = lil_matrix((m, n))\n",
    "        A[:, cols] = H[:, cols]\n",
    "        H[:, cols] -= A[:, cols]\n",
    "\n",
    "        rows, cols, vals = find(A)\n",
    "        p = np.argsort(rows)\n",
    "        vals = w[p]\n",
    "        A = coo_matrix((vals, (rows, cols)), shape=(m, n)).tolil()\n",
    "        H += A\n",
    "\n",
    "    H = (H + H.T) / 2  # Make it symmetric\n",
    "    return H\n"
   ]
  },
  {
   "cell_type": "code",
   "execution_count": 46,
   "metadata": {},
   "outputs": [],
   "source": [
    "plt.plot(group==1)\n",
    "plt.show()"
   ]
  },
  {
   "cell_type": "code",
   "execution_count": 36,
   "metadata": {},
   "outputs": [],
   "source": [
    "plt.plot(df(x0))\n",
    "plt.show()"
   ]
  },
  {
   "cell_type": "code",
   "execution_count": 47,
   "metadata": {},
   "outputs": [],
   "source": [
    "plt.plot(group)\n",
    "plt.show()"
   ]
  }
 ],
 "metadata": {
  "kernelspec": {
   "display_name": "Python 3",
   "language": "python",
   "name": "python3"
  },
  "language_info": {
   "codemirror_mode": {
    "name": "ipython",
    "version": 3
   },
   "file_extension": ".py",
   "mimetype": "text/x-python",
   "name": "python",
   "nbconvert_exporter": "python",
   "pygments_lexer": "ipython3",
   "version": "3.11.3"
  },
  "orig_nbformat": 4
 },
 "nbformat": 4,
 "nbformat_minor": 2
}
