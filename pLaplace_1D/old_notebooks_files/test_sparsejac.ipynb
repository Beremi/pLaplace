{
 "cells": [
  {
   "cell_type": "code",
   "execution_count": 6,
   "metadata": {},
   "outputs": [],
   "source": [
    "import sparsejac\n"
   ]
  },
  {
   "cell_type": "code",
   "execution_count": null,
   "metadata": {},
   "outputs": [],
   "source": [
    "import jax\n",
    "import jax.numpy as jnp\n"
   ]
  },
  {
   "cell_type": "code",
   "execution_count": null,
   "metadata": {},
   "outputs": [],
   "source": [
    "\n",
    "\n",
    "fn = lambda x: x**2\n",
    "sparsity = jax.experimental.sparse.BCOO.fromdense(jnp.eye(1000))\n",
    "x = jax.random.uniform(jax.random.PRNGKey(0), shape=(1000,))\n",
    "\n",
    "sparse_fn = jax.jit(sparsejac.jacrev(fn, sparsity))\n",
    "dense_fn = jax.jit(jax.jacrev(fn))\n"
   ]
  },
  {
   "cell_type": "code",
   "execution_count": 2,
   "metadata": {},
   "outputs": [],
   "source": [
    "\n",
    "assert jnp.all(sparse_fn(x).todense() == dense_fn(x))\n"
   ]
  },
  {
   "cell_type": "code",
   "execution_count": 3,
   "metadata": {},
   "outputs": [
    {
     "name": "stdout",
     "output_type": "stream",
     "text": [
      "14 µs ± 674 ns per loop (mean ± std. dev. of 7 runs, 100,000 loops each)\n",
      "184 µs ± 10.7 µs per loop (mean ± std. dev. of 7 runs, 10,000 loops each)\n"
     ]
    }
   ],
   "source": [
    "\n",
    "%timeit sparse_fn(x).block_until_ready()\n",
    "%timeit dense_fn(x).block_until_ready()"
   ]
  },
  {
   "cell_type": "code",
   "execution_count": 32,
   "metadata": {},
   "outputs": [],
   "source": [
    "import jax\n",
    "from jax import numpy as jnp\n",
    "from jax.experimental import sparse\n",
    "\n",
    "\n",
    "def sparse_tridiagonal(n):\n",
    "    # Prepare row and column indices\n",
    "    main_diag = jnp.arange(n)\n",
    "    off_diag = jnp.arange(n - 1)\n",
    "\n",
    "    # Indices for main diagonal\n",
    "    rows_main = main_diag\n",
    "    cols_main = main_diag\n",
    "\n",
    "    # Indices for the diagonal above the main diagonal\n",
    "    rows_above = off_diag\n",
    "    cols_above = off_diag + 1\n",
    "\n",
    "    # Indices for the diagonal below the main diagonal\n",
    "    rows_below = off_diag + 1\n",
    "    cols_below = off_diag\n",
    "\n",
    "    # Concatenate all indices\n",
    "    rows = jnp.concatenate([rows_main, rows_above, rows_below])\n",
    "    cols = jnp.concatenate([cols_main, cols_above, cols_below])\n",
    "\n",
    "    # Combine rows and cols into a single 2D indices array\n",
    "    indices = jnp.stack([rows, cols], axis=-1)\n",
    "\n",
    "    # Create data array with ones\n",
    "    data = jnp.ones_like(rows)\n",
    "\n",
    "    # Create sparse matrix\n",
    "    matrix = sparse.BCOO((data, indices), shape=(n, n))\n",
    "\n",
    "    return matrix\n",
    "\n",
    "\n",
    "# Usage:\n",
    "n = 10000\n",
    "tri_diag = sparse_tridiagonal(n)\n"
   ]
  },
  {
   "cell_type": "code",
   "execution_count": 33,
   "metadata": {},
   "outputs": [],
   "source": [
    "import scipy.sparse as sp\n",
    "import scipy.sparse.linalg as spla\n",
    "import numpy as np\n",
    "\n",
    "# Convert JAX sparse matrix to Scipy sparse\n",
    "data_np = np.array(tri_diag.data)\n",
    "indices_np = np.array(tri_diag.indices)\n",
    "shape_np = tri_diag.shape\n",
    "sparse_matrix_scipy = sp.csr_matrix((data_np, (indices_np[:, 0], indices_np[:, 1])), shape=shape_np)\n",
    "\n",
    "# Create right-hand-side vector\n",
    "b = np.ones((n,))\n",
    "\n",
    "# Solve the system\n",
    "x = spla.spsolve(sparse_matrix_scipy, b)\n"
   ]
  },
  {
   "cell_type": "code",
   "execution_count": 34,
   "metadata": {},
   "outputs": [
    {
     "data": {
      "text/plain": [
       "[<matplotlib.lines.Line2D at 0x7f3fca23f610>]"
      ]
     },
     "execution_count": 34,
     "metadata": {},
     "output_type": "execute_result"
    },
    {
     "data": {
      "image/png": "[encoded data removed]",
      "text/plain": [
       "<Figure size 640x480 with 1 Axes>"
      ]
     },
     "metadata": {},
     "output_type": "display_data"
    }
   ],
   "source": [
    "import matplotlib.pyplot as plt\n",
    "# imshow of tri_diag\n",
    "plt.plot(x)"
   ]
  },
  {
   "cell_type": "code",
   "execution_count": 8,
   "metadata": {},
   "outputs": [
    {
     "data": {
      "text/plain": [
       "BCOO(float32[3, 3], nse=3)"
      ]
     },
     "execution_count": 8,
     "metadata": {},
     "output_type": "execute_result"
    }
   ],
   "source": [
    "data = jnp.array([1., 3., 5.])\n",
    "indices = jnp.array([[0, 0],\n",
    "                      [1, 1],\n",
    "                      [2, 2]])\n",
    "mat = sparse.BCOO((data, indices), shape=(3, 3))\n",
    "mat"
   ]
  }
 ],
 "metadata": {
  "kernelspec": {
   "display_name": "Python 3",
   "language": "python",
   "name": "python3"
  },
  "language_info": {
   "codemirror_mode": {
    "name": "ipython",
    "version": 3
   },
   "file_extension": ".py",
   "mimetype": "text/x-python",
   "name": "python",
   "nbconvert_exporter": "python",
   "pygments_lexer": "ipython3",
   "version": "3.11.3"
  },
  "orig_nbformat": 4
 },
 "nbformat": 4,
 "nbformat_minor": 2
}
