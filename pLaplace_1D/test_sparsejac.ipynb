{
 "cells": [
  {
   "cell_type": "code",
   "execution_count": 4,
   "metadata": {},
   "outputs": [],
   "source": [
    "import sparsejac\n",
    "import jax\n",
    "import jax.numpy as jnp\n",
    "\n",
    "\n",
    "fn = lambda x: x**2\n",
    "sparsity = jax.experimental.sparse.BCOO.fromdense(jnp.eye(1000))\n",
    "x = jax.random.uniform(jax.random.PRNGKey(0), shape=(1000,))\n",
    "\n",
    "sparse_fn = jax.jit(sparsejac.jacrev(fn, sparsity))\n",
    "dense_fn = jax.jit(jax.jacrev(fn))\n"
   ]
  },
  {
   "cell_type": "code",
   "execution_count": 5,
   "metadata": {},
   "outputs": [],
   "source": [
    "\n",
    "assert jnp.all(sparse_fn(x).todense() == dense_fn(x))\n"
   ]
  },
  {
   "cell_type": "code",
   "execution_count": 6,
   "metadata": {},
   "outputs": [
    {
     "name": "stdout",
     "output_type": "stream",
     "text": [
      "16.2 µs ± 750 ns per loop (mean ± std. dev. of 7 runs, 100,000 loops each)\n",
      "207 µs ± 40.8 µs per loop (mean ± std. dev. of 7 runs, 10,000 loops each)\n"
     ]
    }
   ],
   "source": [
    "\n",
    "%timeit sparse_fn(x).block_until_ready()\n",
    "%timeit dense_fn(x).block_until_ready()"
   ]
  }
 ],
 "metadata": {
  "kernelspec": {
   "display_name": "Python 3",
   "language": "python",
   "name": "python3"
  },
  "language_info": {
   "codemirror_mode": {
    "name": "ipython",
    "version": 3
   },
   "file_extension": ".py",
   "mimetype": "text/x-python",
   "name": "python",
   "nbconvert_exporter": "python",
   "pygments_lexer": "ipython3",
   "version": "3.11.3"
  },
  "orig_nbformat": 4
 },
 "nbformat": 4,
 "nbformat_minor": 2
}
