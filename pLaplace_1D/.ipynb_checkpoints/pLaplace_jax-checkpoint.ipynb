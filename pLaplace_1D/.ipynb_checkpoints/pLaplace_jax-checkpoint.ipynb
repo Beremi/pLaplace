{
 "cells": [
  {
   "cell_type": "code",
   "execution_count": 1,
   "metadata": {},
   "outputs": [
    {
     "name": "stdout",
     "output_type": "stream",
     "text": [
      "Intel MKL WARNING: Support of Intel(R) Streaming SIMD Extensions 4.2 (Intel(R) SSE4.2) enabled only processors has been deprecated. Intel oneAPI Math Kernel Library 2025.0 will require Intel(R) Advanced Vector Extensions (Intel(R) AVX) instructions.\n",
      "Intel MKL WARNING: Support of Intel(R) Streaming SIMD Extensions 4.2 (Intel(R) SSE4.2) enabled only processors has been deprecated. Intel oneAPI Math Kernel Library 2025.0 will require Intel(R) Advanced Vector Extensions (Intel(R) AVX) instructions.\n"
     ]
    },
    {
     "ename": "ModuleNotFoundError",
     "evalue": "No module named 'jax'",
     "output_type": "error",
     "traceback": [
      "\u001b[0;31m---------------------------------------------------------------------------\u001b[0m",
      "\u001b[0;31mModuleNotFoundError\u001b[0m                       Traceback (most recent call last)",
      "Cell \u001b[0;32mIn[1], line 3\u001b[0m\n\u001b[1;32m      1\u001b[0m \u001b[38;5;28;01mimport\u001b[39;00m \u001b[38;5;21;01mmatplotlib\u001b[39;00m\u001b[38;5;21;01m.\u001b[39;00m\u001b[38;5;21;01mpyplot\u001b[39;00m \u001b[38;5;28;01mas\u001b[39;00m \u001b[38;5;21;01mplt\u001b[39;00m\n\u001b[1;32m      2\u001b[0m \u001b[38;5;28;01mimport\u001b[39;00m \u001b[38;5;21;01mscipy\u001b[39;00m\u001b[38;5;21;01m.\u001b[39;00m\u001b[38;5;21;01moptimize\u001b[39;00m \u001b[38;5;28;01mas\u001b[39;00m \u001b[38;5;21;01mspo\u001b[39;00m\n\u001b[0;32m----> 3\u001b[0m \u001b[38;5;28;01mimport\u001b[39;00m \u001b[38;5;21;01mjax\u001b[39;00m\u001b[38;5;21;01m.\u001b[39;00m\u001b[38;5;21;01mnumpy\u001b[39;00m \u001b[38;5;28;01mas\u001b[39;00m \u001b[38;5;21;01mnp\u001b[39;00m\n\u001b[1;32m      4\u001b[0m jnp \u001b[38;5;241m=\u001b[39m np\n\u001b[1;32m      5\u001b[0m \u001b[38;5;28;01mimport\u001b[39;00m \u001b[38;5;21;01mjax\u001b[39;00m\n",
      "\u001b[0;31mModuleNotFoundError\u001b[0m: No module named 'jax'"
     ]
    }
   ],
   "source": [
    "import matplotlib.pyplot as plt\n",
    "import scipy.optimize as spo\n",
    "import jax.numpy as np\n",
    "jnp = np\n",
    "import jax\n",
    "\n",
    "from my_timer import timer_decorator\n",
    "from my_solvers import trust_region"
   ]
  },
  {
   "cell_type": "markdown",
   "metadata": {},
   "source": [
    "# Definice funkcí s jax knihovnou pro možnost automatické derivace (np je nyní z jax.numpy)"
   ]
  },
  {
   "cell_type": "code",
   "execution_count": null,
   "metadata": {},
   "outputs": [],
   "source": [
    "def energy_jax(v_internal, fx, v, h, p):\n",
    "    v = v.at[1:-1].set(v_internal)\n",
    "    vx = (v[1:] - v[:-1]) / h\n",
    "    v_mid = (v[1:] + v[:-1]) / 2\n",
    "    Jv_density = (1 / p) * np.abs(vx)**p - fx * v_mid\n",
    "\n",
    "    return np.sum(h * Jv_density)\n",
    "\n",
    "\n",
    "# exact minimizer for p=2\n",
    "def u_init(x):\n",
    "    return 0 * (x + 1) * (x - 1)\n",
    "\n",
    "\n",
    "# rhs\n",
    "def f(x):\n",
    "    return -10 * np.ones(x.size)\n"
   ]
  },
  {
   "cell_type": "markdown",
   "metadata": {},
   "source": [
    "# úloha stejně jako v pLaPlace_numba"
   ]
  },
  {
   "cell_type": "code",
   "execution_count": null,
   "metadata": {},
   "outputs": [],
   "source": [
    "p, a, b = 3, -1, 1\n",
    "ne = 500\n",
    "x = np.linspace(a, b, ne + 1)\n",
    "h = np.diff(x)\n",
    "\n",
    "v = u_init(x)            # testing function\n",
    "v_internal = v[1:-1].copy()\n",
    "x0 = v_internal.copy()   # initial guess\n",
    "\n",
    "\n",
    "x_mid = (x[1:] + x[:-1]) / 2\n",
    "fx = f(x_mid)"
   ]
  },
  {
   "cell_type": "markdown",
   "metadata": {},
   "source": [
    "# Definování funkce, gradientu a hesiánu; nastavení automatické kompilace jit; vyrobení funce s jedním vstupem"
   ]
  },
  {
   "cell_type": "code",
   "execution_count": null,
   "metadata": {},
   "outputs": [],
   "source": [
    "# automatická derivace a kompilace\n",
    "fun = jax.jit(energy_jax)\n",
    "dfun = jax.jit(jax.grad(energy_jax, argnums=0))\n",
    "ddfun = jax.jit(jax.hessian(energy_jax, argnums=0))\n",
    "fun1 = lambda v_internal: fun(v_internal, fx, v, h, p)\n",
    "dfun1 = lambda v_internal: dfun(v_internal, fx, v, h, p)\n",
    "ddfun1 = lambda v_internal: ddfun(v_internal, fx, v, h, p)"
   ]
  },
  {
   "cell_type": "markdown",
   "metadata": {},
   "source": [
    "# V následujících třech buňkách se s prvním zavoláním funkce rovnou kompiluje jit "
   ]
  },
  {
   "cell_type": "code",
   "execution_count": null,
   "metadata": {},
   "outputs": [],
   "source": [
    "print(f\"Initial energy: {fun1(v_internal)}\")"
   ]
  },
  {
   "cell_type": "code",
   "execution_count": null,
   "metadata": {},
   "outputs": [],
   "source": [
    "print(f\"||g||={np.linalg.norm(dfun1(v_internal))}\")"
   ]
  },
  {
   "cell_type": "code",
   "execution_count": null,
   "metadata": {},
   "outputs": [],
   "source": [
    "print(f\"||H||={np.linalg.norm(ddfun1(v_internal))}\")"
   ]
  },
  {
   "cell_type": "markdown",
   "metadata": {},
   "source": [
    "# vyzkoušení řešení úlohy pomocí trust regionu z my_solvers.py\n",
    "u mně to trvalo cca 0.5s pro úlohu s dělením 200 a p=3\n",
    "\n",
    "pro dělení 500 a p=3 to trvalo cca 2.1s v porovnání s implementací bez derivací s numbou 27s"
   ]
  },
  {
   "cell_type": "code",
   "execution_count": null,
   "metadata": {},
   "outputs": [],
   "source": [
    "solopt, iterations = trust_region(fun1 , dfun1, ddfun1, x0, c0=1, tolf=1e-6, tolg=1e-6, maxit=1000, verbose = False)"
   ]
  },
  {
   "cell_type": "markdown",
   "metadata": {},
   "source": [
    "# Pokus o vyřešení pomocí scipy.optimize.minimize, zde bez použití gradientu a hesiánu, pozor vrací špatný výsledek"
   ]
  },
  {
   "cell_type": "code",
   "execution_count": null,
   "metadata": {},
   "outputs": [],
   "source": [
    "# comparison with scipy minimization\n",
    "from scipy.optimize import minimize\n",
    "\n",
    "\n",
    "minimize_timed = timer_decorator(minimize)\n",
    "\n",
    "print(\"energy (init)=\", fun(v_internal, fx, v, h, p))\n",
    "\n",
    "\n",
    "solopt = minimize_timed(fun, v_internal, args=(fx, v, h, p))\n",
    "\n",
    "print(\"energy (final)=\", fun(solopt.x, fx, v, h, p))"
   ]
  },
  {
   "cell_type": "markdown",
   "metadata": {},
   "source": [
    "# Verze trust regionu v scipy.optimize.minimize, správný výsledek, ale trvá déle než předchozí trust region (vevnitř se zřejmě děje něco jinak (víc iterací))"
   ]
  },
  {
   "cell_type": "code",
   "execution_count": null,
   "metadata": {},
   "outputs": [],
   "source": [
    "print(\"energy (init)=\", fun(v_internal, fx, v, h, p))\n",
    "\n",
    "\n",
    "solopt = minimize_timed(fun, v_internal, args=(fx, v, h, p), method='trust-constr', jac=dfun, hess=ddfun)\n",
    "\n",
    "print(\"energy (final)=\", fun(solopt.x, fx, v, h, p))\n",
    "solopt.nit"
   ]
  },
  {
   "cell_type": "markdown",
   "metadata": {},
   "source": [
    "# větší úloha"
   ]
  },
  {
   "cell_type": "code",
   "execution_count": null,
   "metadata": {},
   "outputs": [],
   "source": [
    "p, a, b = 3, -1, 1\n",
    "ne = 1000\n",
    "x = np.linspace(a, b, ne + 1)\n",
    "h = np.diff(x)\n",
    "\n",
    "v = u_init(x)            # testing function\n",
    "v_internal = v[1:-1].copy()\n",
    "x0 = v_internal.copy()   # initial guess\n",
    "\n",
    "\n",
    "x_mid = (x[1:] + x[:-1]) / 2\n",
    "fx = f(x_mid)"
   ]
  },
  {
   "cell_type": "code",
   "execution_count": null,
   "metadata": {},
   "outputs": [],
   "source": [
    "solopt, iterations = trust_region(fun1 , dfun1, ddfun1, x0, c0=1, tolf=1e-6, tolg=1e-6, maxit=1000, verbose = False)"
   ]
  },
  {
   "cell_type": "markdown",
   "metadata": {},
   "source": [
    "### scipy je třeba nastavit mimo default, jinak nedořeší v 1000 iteracích"
   ]
  },
  {
   "cell_type": "code",
   "execution_count": null,
   "metadata": {},
   "outputs": [],
   "source": [
    "solopt = minimize_timed(fun1, v_internal, method='trust-constr', jac=dfun1, hess=ddfun1)\n",
    "\n",
    "print(\"energy (final)=\", fun(solopt.x, fx, v, h, p))\n",
    "solopt.nit"
   ]
  },
  {
   "cell_type": "markdown",
   "metadata": {},
   "source": [
    "# profilování trust regionu\n",
    "- řeší s hustými maticemi (nevím jestli jax zvládne sparse)\n",
    "- 171 iterací vs v článku bylo 37"
   ]
  },
  {
   "cell_type": "code",
   "execution_count": 2,
   "metadata": {},
   "outputs": [],
   "source": [
    "# !pip install line_profiler"
   ]
  },
  {
   "cell_type": "code",
   "execution_count": 3,
   "metadata": {},
   "outputs": [
    {
     "ename": "ModuleNotFoundError",
     "evalue": "No module named 'line_profiler'",
     "output_type": "error",
     "traceback": [
      "\u001b[0;31m---------------------------------------------------------------------------\u001b[0m",
      "\u001b[0;31mModuleNotFoundError\u001b[0m                       Traceback (most recent call last)",
      "Cell \u001b[0;32mIn[3], line 1\u001b[0m\n\u001b[0;32m----> 1\u001b[0m \u001b[43mget_ipython\u001b[49m\u001b[43m(\u001b[49m\u001b[43m)\u001b[49m\u001b[38;5;241;43m.\u001b[39;49m\u001b[43mrun_line_magic\u001b[49m\u001b[43m(\u001b[49m\u001b[38;5;124;43m'\u001b[39;49m\u001b[38;5;124;43mload_ext\u001b[39;49m\u001b[38;5;124;43m'\u001b[39;49m\u001b[43m,\u001b[49m\u001b[43m \u001b[49m\u001b[38;5;124;43m'\u001b[39;49m\u001b[38;5;124;43mline_profiler\u001b[39;49m\u001b[38;5;124;43m'\u001b[39;49m\u001b[43m)\u001b[49m\n",
      "File \u001b[0;32m~/opt/anaconda3/lib/python3.9/site-packages/IPython/core/interactiveshell.py:2414\u001b[0m, in \u001b[0;36mInteractiveShell.run_line_magic\u001b[0;34m(self, magic_name, line, _stack_depth)\u001b[0m\n\u001b[1;32m   2412\u001b[0m     kwargs[\u001b[38;5;124m'\u001b[39m\u001b[38;5;124mlocal_ns\u001b[39m\u001b[38;5;124m'\u001b[39m] \u001b[38;5;241m=\u001b[39m \u001b[38;5;28mself\u001b[39m\u001b[38;5;241m.\u001b[39mget_local_scope(stack_depth)\n\u001b[1;32m   2413\u001b[0m \u001b[38;5;28;01mwith\u001b[39;00m \u001b[38;5;28mself\u001b[39m\u001b[38;5;241m.\u001b[39mbuiltin_trap:\n\u001b[0;32m-> 2414\u001b[0m     result \u001b[38;5;241m=\u001b[39m \u001b[43mfn\u001b[49m\u001b[43m(\u001b[49m\u001b[38;5;241;43m*\u001b[39;49m\u001b[43margs\u001b[49m\u001b[43m,\u001b[49m\u001b[43m \u001b[49m\u001b[38;5;241;43m*\u001b[39;49m\u001b[38;5;241;43m*\u001b[39;49m\u001b[43mkwargs\u001b[49m\u001b[43m)\u001b[49m\n\u001b[1;32m   2416\u001b[0m \u001b[38;5;66;03m# The code below prevents the output from being displayed\u001b[39;00m\n\u001b[1;32m   2417\u001b[0m \u001b[38;5;66;03m# when using magics with decodator @output_can_be_silenced\u001b[39;00m\n\u001b[1;32m   2418\u001b[0m \u001b[38;5;66;03m# when the last Python token in the expression is a ';'.\u001b[39;00m\n\u001b[1;32m   2419\u001b[0m \u001b[38;5;28;01mif\u001b[39;00m \u001b[38;5;28mgetattr\u001b[39m(fn, magic\u001b[38;5;241m.\u001b[39mMAGIC_OUTPUT_CAN_BE_SILENCED, \u001b[38;5;28;01mFalse\u001b[39;00m):\n",
      "File \u001b[0;32m~/opt/anaconda3/lib/python3.9/site-packages/IPython/core/magics/extension.py:33\u001b[0m, in \u001b[0;36mExtensionMagics.load_ext\u001b[0;34m(self, module_str)\u001b[0m\n\u001b[1;32m     31\u001b[0m \u001b[38;5;28;01mif\u001b[39;00m \u001b[38;5;129;01mnot\u001b[39;00m module_str:\n\u001b[1;32m     32\u001b[0m     \u001b[38;5;28;01mraise\u001b[39;00m UsageError(\u001b[38;5;124m'\u001b[39m\u001b[38;5;124mMissing module name.\u001b[39m\u001b[38;5;124m'\u001b[39m)\n\u001b[0;32m---> 33\u001b[0m res \u001b[38;5;241m=\u001b[39m \u001b[38;5;28;43mself\u001b[39;49m\u001b[38;5;241;43m.\u001b[39;49m\u001b[43mshell\u001b[49m\u001b[38;5;241;43m.\u001b[39;49m\u001b[43mextension_manager\u001b[49m\u001b[38;5;241;43m.\u001b[39;49m\u001b[43mload_extension\u001b[49m\u001b[43m(\u001b[49m\u001b[43mmodule_str\u001b[49m\u001b[43m)\u001b[49m\n\u001b[1;32m     35\u001b[0m \u001b[38;5;28;01mif\u001b[39;00m res \u001b[38;5;241m==\u001b[39m \u001b[38;5;124m'\u001b[39m\u001b[38;5;124malready loaded\u001b[39m\u001b[38;5;124m'\u001b[39m:\n\u001b[1;32m     36\u001b[0m     \u001b[38;5;28mprint\u001b[39m(\u001b[38;5;124m\"\u001b[39m\u001b[38;5;124mThe \u001b[39m\u001b[38;5;132;01m%s\u001b[39;00m\u001b[38;5;124m extension is already loaded. To reload it, use:\u001b[39m\u001b[38;5;124m\"\u001b[39m \u001b[38;5;241m%\u001b[39m module_str)\n",
      "File \u001b[0;32m~/opt/anaconda3/lib/python3.9/site-packages/IPython/core/extensions.py:76\u001b[0m, in \u001b[0;36mExtensionManager.load_extension\u001b[0;34m(self, module_str)\u001b[0m\n\u001b[1;32m     69\u001b[0m \u001b[38;5;250m\u001b[39m\u001b[38;5;124;03m\"\"\"Load an IPython extension by its module name.\u001b[39;00m\n\u001b[1;32m     70\u001b[0m \n\u001b[1;32m     71\u001b[0m \u001b[38;5;124;03mReturns the string \"already loaded\" if the extension is already loaded,\u001b[39;00m\n\u001b[1;32m     72\u001b[0m \u001b[38;5;124;03m\"no load function\" if the module doesn't have a load_ipython_extension\u001b[39;00m\n\u001b[1;32m     73\u001b[0m \u001b[38;5;124;03mfunction, or None if it succeeded.\u001b[39;00m\n\u001b[1;32m     74\u001b[0m \u001b[38;5;124;03m\"\"\"\u001b[39;00m\n\u001b[1;32m     75\u001b[0m \u001b[38;5;28;01mtry\u001b[39;00m:\n\u001b[0;32m---> 76\u001b[0m     \u001b[38;5;28;01mreturn\u001b[39;00m \u001b[38;5;28;43mself\u001b[39;49m\u001b[38;5;241;43m.\u001b[39;49m\u001b[43m_load_extension\u001b[49m\u001b[43m(\u001b[49m\u001b[43mmodule_str\u001b[49m\u001b[43m)\u001b[49m\n\u001b[1;32m     77\u001b[0m \u001b[38;5;28;01mexcept\u001b[39;00m \u001b[38;5;167;01mModuleNotFoundError\u001b[39;00m:\n\u001b[1;32m     78\u001b[0m     \u001b[38;5;28;01mif\u001b[39;00m module_str \u001b[38;5;129;01min\u001b[39;00m BUILTINS_EXTS:\n",
      "File \u001b[0;32m~/opt/anaconda3/lib/python3.9/site-packages/IPython/core/extensions.py:91\u001b[0m, in \u001b[0;36mExtensionManager._load_extension\u001b[0;34m(self, module_str)\u001b[0m\n\u001b[1;32m     89\u001b[0m \u001b[38;5;28;01mwith\u001b[39;00m \u001b[38;5;28mself\u001b[39m\u001b[38;5;241m.\u001b[39mshell\u001b[38;5;241m.\u001b[39mbuiltin_trap:\n\u001b[1;32m     90\u001b[0m     \u001b[38;5;28;01mif\u001b[39;00m module_str \u001b[38;5;129;01mnot\u001b[39;00m \u001b[38;5;129;01min\u001b[39;00m sys\u001b[38;5;241m.\u001b[39mmodules:\n\u001b[0;32m---> 91\u001b[0m         mod \u001b[38;5;241m=\u001b[39m \u001b[43mimport_module\u001b[49m\u001b[43m(\u001b[49m\u001b[43mmodule_str\u001b[49m\u001b[43m)\u001b[49m\n\u001b[1;32m     92\u001b[0m     mod \u001b[38;5;241m=\u001b[39m sys\u001b[38;5;241m.\u001b[39mmodules[module_str]\n\u001b[1;32m     93\u001b[0m     \u001b[38;5;28;01mif\u001b[39;00m \u001b[38;5;28mself\u001b[39m\u001b[38;5;241m.\u001b[39m_call_load_ipython_extension(mod):\n",
      "File \u001b[0;32m~/opt/anaconda3/lib/python3.9/importlib/__init__.py:127\u001b[0m, in \u001b[0;36mimport_module\u001b[0;34m(name, package)\u001b[0m\n\u001b[1;32m    125\u001b[0m             \u001b[38;5;28;01mbreak\u001b[39;00m\n\u001b[1;32m    126\u001b[0m         level \u001b[38;5;241m+\u001b[39m\u001b[38;5;241m=\u001b[39m \u001b[38;5;241m1\u001b[39m\n\u001b[0;32m--> 127\u001b[0m \u001b[38;5;28;01mreturn\u001b[39;00m \u001b[43m_bootstrap\u001b[49m\u001b[38;5;241;43m.\u001b[39;49m\u001b[43m_gcd_import\u001b[49m\u001b[43m(\u001b[49m\u001b[43mname\u001b[49m\u001b[43m[\u001b[49m\u001b[43mlevel\u001b[49m\u001b[43m:\u001b[49m\u001b[43m]\u001b[49m\u001b[43m,\u001b[49m\u001b[43m \u001b[49m\u001b[43mpackage\u001b[49m\u001b[43m,\u001b[49m\u001b[43m \u001b[49m\u001b[43mlevel\u001b[49m\u001b[43m)\u001b[49m\n",
      "File \u001b[0;32m<frozen importlib._bootstrap>:1030\u001b[0m, in \u001b[0;36m_gcd_import\u001b[0;34m(name, package, level)\u001b[0m\n",
      "File \u001b[0;32m<frozen importlib._bootstrap>:1007\u001b[0m, in \u001b[0;36m_find_and_load\u001b[0;34m(name, import_)\u001b[0m\n",
      "File \u001b[0;32m<frozen importlib._bootstrap>:984\u001b[0m, in \u001b[0;36m_find_and_load_unlocked\u001b[0;34m(name, import_)\u001b[0m\n",
      "\u001b[0;31mModuleNotFoundError\u001b[0m: No module named 'line_profiler'"
     ]
    }
   ],
   "source": [
    "%load_ext line_profiler"
   ]
  },
  {
   "cell_type": "markdown",
   "metadata": {},
   "source": [
    "### Line profiler (moje vysledky)\n",
    "83% času stráveného při řešení hustého systému lineárních rovnic\n",
    "\n",
    "```\n",
    "Line #      Hits         Time  Per Hit   % Time  Line Contents\n",
    "==============================================================\n",
    "    71                                           @timer_decorator\n",
    "    72                                           def trust_region(f, df, ddf, x0, c0=1.0, tolf=1e-6, tolg=1e-3, maxit=1000, verbose=False):\n",
    "    73                                               \"\"\"\n",
    "    74                                               Trust Region (quasi-Newton method)\n",
    "    75                                           \n",
    "    76                                               Parameters\n",
    "    77                                               ----------\n",
    "    78                                               fun : function\n",
    "    79                                                   The objective function to be minimized.\n",
    "    80                                               x0 : numpy.ndarray\n",
    "    81                                                   The initial guess for the minimum.\n",
    "    82                                               c0 : float\n",
    "    83                                                   The initial trust region size.\n",
    "    84                                               tol : float\n",
    "    85                                                   The tolerance for the stopping condition.\n",
    "    86                                           \n",
    "    87                                               Returns\n",
    "    88                                               -------\n",
    "    89                                               xmin : numpy.ndarray\n",
    "    90                                                   The found minimum.\n",
    "    91                                               it : int\n",
    "    92                                                   The number of iterations.\n",
    "    93                                               \"\"\"\n",
    "    94                                           \n",
    "    95         1       1077.0   1077.0      0.0      c = c0\n",
    "    96         1        376.0    376.0      0.0      x = x0\n",
    "    97         1     830351.0 830351.0      0.0      fx = f(x)\n",
    "    98         1    3272663.0 3272663.0      0.0      g = df(x)\n",
    "    99         1    8270695.0 8270695.0      0.0      H = ddf(x)\n",
    "   100                                           \n",
    "   101         1       1110.0   1110.0      0.0      it = 0\n",
    "   102       172   14835459.0  86252.7      0.1      while np.linalg.norm(g) > tolg:\n",
    "   103                                                   # Trial step\n",
    "   104       172 13996989406.0 81377845.4     82.8          h = -np.linalg.solve(H + c * np.eye(len(x)), g)\n",
    "   105                                                   # Quadratic model of function f\n",
    "   106       172  754014682.0 4383806.3      4.5          m = fx + np.dot(g.T, h) + 0.5 * np.dot(np.dot(h.T, H), h)\n",
    "   107       172   18575530.0 107997.3      0.1          fxn = f(x + h)\n",
    "   108                                           \n",
    "   109                                                   # check stopping condition for f\n",
    "   110       171   12395796.0  72490.0      0.1          if np.abs(fx - fxn) < tolf:\n",
    "   111         1      94493.0  94493.0      0.0              print(\"Stopping condition for f is satisfied\")\n",
    "   112         1        462.0    462.0      0.0              break\n",
    "   113                                           \n",
    "   114       171   11968786.0  69992.9      0.1          rho = (fx - fxn) / (fx - m)\n",
    "   115                                           \n",
    "   116       136   14779538.0 108673.1      0.1          if rho >= 0.1:\n",
    "   117       136    3481096.0  25596.3      0.0              xn = x + h\n",
    "   118       136    7809308.0  57421.4      0.0              g = df(xn)\n",
    "   119       136 2028782573.0 14917518.9     12.0              H = ddf(xn)\n",
    "   120                                                   else:\n",
    "   121        35      18548.0    529.9      0.0              xn = x\n",
    "   122        35      57342.0   1638.3      0.0              fxn = fx\n",
    "   123                                           \n",
    "   124                                                   # Adjust the size of the trust region\n",
    "   125       126   25827956.0 204983.8      0.2          if rho > 0.75:\n",
    "   126        45     129868.0   2886.0      0.0              c *= 0.5\n",
    "   127        91    5762495.0  63324.1      0.0          elif rho < 0.1:\n",
    "   128        35      63492.0   1814.1      0.0              c *= 2\n",
    "   129                                           \n",
    "   130       171     664423.0   3885.5      0.0          x = xn\n",
    "   131       171     518335.0   3031.2      0.0          fx = fxn\n",
    "   132                                           \n",
    "   133       171     247481.0   1447.3      0.0          it += 1\n",
    "   134       171     104773.0    612.7      0.0          if verbose:\n",
    "   135                                                       print(f\"it={it}, f={fx}, c={c}, ||g||={np.linalg.norm(g)}\")\n",
    "   136                                           \n",
    "   137       171     168070.0    982.9      0.0          if it > maxit:\n",
    "   138                                                       print(\"Maximum number of iterations reached\")\n",
    "   139                                                       break\n",
    "   140                                               else:\n",
    "   141                                                   print(\"Stopping condition for g is satisfied\")\n",
    "   142                                           \n",
    "   143         1     173675.0 173675.0      0.0      print(f\"it={it}, f={fx}, c={c}, ||g||={np.linalg.norm(g)}\")\n",
    "   144         1        446.0    446.0      0.0      return x, it\n",
    "   ```"
   ]
  },
  {
   "cell_type": "code",
   "execution_count": 18,
   "metadata": {},
   "outputs": [
    {
     "name": "stdout",
     "output_type": "stream",
     "text": [
      "Stopping condition for f is satisfied\n",
      "it=171, f=-16.86547088623047, c=0.0009765625, ||g||=0.004434245638549328\n",
      "trust_region#2: 16.933 s\n",
      "Timer unit: 1e-09 s\n",
      "\n",
      "Total time: 16.9098 s\n",
      "File: /home/ber0061/Repositories/pLaplace/pLaplace_1D/my_solvers.py\n",
      "Function: trust_region at line 71\n",
      "\n",
      "Line #      Hits         Time  Per Hit   % Time  Line Contents\n",
      "==============================================================\n",
      "    71                                           @timer_decorator\n",
      "    72                                           def trust_region(f, df, ddf, x0, c0=1.0, tolf=1e-6, tolg=1e-3, maxit=1000, verbose=False):\n",
      "    73                                               \"\"\"\n",
      "    74                                               Trust Region (quasi-Newton method)\n",
      "    75                                           \n",
      "    76                                               Parameters\n",
      "    77                                               ----------\n",
      "    78                                               fun : function\n",
      "    79                                                   The objective function to be minimized.\n",
      "    80                                               x0 : numpy.ndarray\n",
      "    81                                                   The initial guess for the minimum.\n",
      "    82                                               c0 : float\n",
      "    83                                                   The initial trust region size.\n",
      "    84                                               tol : float\n",
      "    85                                                   The tolerance for the stopping condition.\n",
      "    86                                           \n",
      "    87                                               Returns\n",
      "    88                                               -------\n",
      "    89                                               xmin : numpy.ndarray\n",
      "    90                                                   The found minimum.\n",
      "    91                                               it : int\n",
      "    92                                                   The number of iterations.\n",
      "    93                                               \"\"\"\n",
      "    94                                           \n",
      "    95         1       1077.0   1077.0      0.0      c = c0\n",
      "    96         1        376.0    376.0      0.0      x = x0\n",
      "    97         1     830351.0 830351.0      0.0      fx = f(x)\n",
      "    98         1    3272663.0 3272663.0      0.0      g = df(x)\n",
      "    99         1    8270695.0 8270695.0      0.0      H = ddf(x)\n",
      "   100                                           \n",
      "   101         1       1110.0   1110.0      0.0      it = 0\n",
      "   102       172   14835459.0  86252.7      0.1      while np.linalg.norm(g) > tolg:\n",
      "   103                                                   # Trial step\n",
      "   104       172 13996989406.0 81377845.4     82.8          h = -np.linalg.solve(H + c * np.eye(len(x)), g)\n",
      "   105                                                   # Quadratic model of function f\n",
      "   106       172  754014682.0 4383806.3      4.5          m = fx + np.dot(g.T, h) + 0.5 * np.dot(np.dot(h.T, H), h)\n",
      "   107       172   18575530.0 107997.3      0.1          fxn = f(x + h)\n",
      "   108                                           \n",
      "   109                                                   # check stopping condition for f\n",
      "   110       171   12395796.0  72490.0      0.1          if np.abs(fx - fxn) < tolf:\n",
      "   111         1      94493.0  94493.0      0.0              print(\"Stopping condition for f is satisfied\")\n",
      "   112         1        462.0    462.0      0.0              break\n",
      "   113                                           \n",
      "   114       171   11968786.0  69992.9      0.1          rho = (fx - fxn) / (fx - m)\n",
      "   115                                           \n",
      "   116       136   14779538.0 108673.1      0.1          if rho >= 0.1:\n",
      "   117       136    3481096.0  25596.3      0.0              xn = x + h\n",
      "   118       136    7809308.0  57421.4      0.0              g = df(xn)\n",
      "   119       136 2028782573.0 14917518.9     12.0              H = ddf(xn)\n",
      "   120                                                   else:\n",
      "   121        35      18548.0    529.9      0.0              xn = x\n",
      "   122        35      57342.0   1638.3      0.0              fxn = fx\n",
      "   123                                           \n",
      "   124                                                   # Adjust the size of the trust region\n",
      "   125       126   25827956.0 204983.8      0.2          if rho > 0.75:\n",
      "   126        45     129868.0   2886.0      0.0              c *= 0.5\n",
      "   127        91    5762495.0  63324.1      0.0          elif rho < 0.1:\n",
      "   128        35      63492.0   1814.1      0.0              c *= 2\n",
      "   129                                           \n",
      "   130       171     664423.0   3885.5      0.0          x = xn\n",
      "   131       171     518335.0   3031.2      0.0          fx = fxn\n",
      "   132                                           \n",
      "   133       171     247481.0   1447.3      0.0          it += 1\n",
      "   134       171     104773.0    612.7      0.0          if verbose:\n",
      "   135                                                       print(f\"it={it}, f={fx}, c={c}, ||g||={np.linalg.norm(g)}\")\n",
      "   136                                           \n",
      "   137       171     168070.0    982.9      0.0          if it > maxit:\n",
      "   138                                                       print(\"Maximum number of iterations reached\")\n",
      "   139                                                       break\n",
      "   140                                               else:\n",
      "   141                                                   print(\"Stopping condition for g is satisfied\")\n",
      "   142                                           \n",
      "   143         1     173675.0 173675.0      0.0      print(f\"it={it}, f={fx}, c={c}, ||g||={np.linalg.norm(g)}\")\n",
      "   144         1        446.0    446.0      0.0      return x, it"
     ]
    }
   ],
   "source": [
    "%lprun -f trust_region.__wrapped__ trust_region(fun1 , dfun1, ddfun1, x0, c0=1, tolf=1e-6, tolg=1e-6, maxit=1000, verbose = False)"
   ]
  }
 ],
 "metadata": {
  "kernelspec": {
   "display_name": "Python 3 (ipykernel)",
   "language": "python",
   "name": "python3"
  },
  "language_info": {
   "codemirror_mode": {
    "name": "ipython",
    "version": 3
   },
   "file_extension": ".py",
   "mimetype": "text/x-python",
   "name": "python",
   "nbconvert_exporter": "python",
   "pygments_lexer": "ipython3",
   "version": "3.9.16"
  }
 },
 "nbformat": 4,
 "nbformat_minor": 2
}
