{
 "cells": [
  {
   "cell_type": "code",
   "execution_count": 1,
   "metadata": {},
   "outputs": [
    {
     "name": "stdout",
     "output_type": "stream",
     "text": [
      "Intel MKL WARNING: Support of Intel(R) Streaming SIMD Extensions 4.2 (Intel(R) SSE4.2) enabled only processors has been deprecated. Intel oneAPI Math Kernel Library 2025.0 will require Intel(R) Advanced Vector Extensions (Intel(R) AVX) instructions.\n",
      "Intel MKL WARNING: Support of Intel(R) Streaming SIMD Extensions 4.2 (Intel(R) SSE4.2) enabled only processors has been deprecated. Intel oneAPI Math Kernel Library 2025.0 will require Intel(R) Advanced Vector Extensions (Intel(R) AVX) instructions.\n"
     ]
    }
   ],
   "source": [
    "import numpy as np\n",
    "import matplotlib.pyplot as plt\n",
    "from my_timer import timer_decorator\n",
    "from scipy.optimize import minimize"
   ]
  },
  {
   "cell_type": "markdown",
   "metadata": {},
   "source": [
    "# definice funkcionálů z původního kódu"
   ]
  },
  {
   "cell_type": "code",
   "execution_count": 2,
   "metadata": {},
   "outputs": [],
   "source": [
    "# energy functional\n",
    "def energy(v_internal, x, v, p):\n",
    "    u_a = v[0]                # v at the left end\n",
    "    u_b = v[-1]               # v at the right end\n",
    "    h = x[1] - x[0]             # mesh size\n",
    "\n",
    "    v = np.concatenate(([u_a], v_internal, [u_b]))\n",
    "    vx = np.zeros(ne)\n",
    "    x_mid = np.zeros(ne)\n",
    "    v_mid = np.zeros(ne)\n",
    "    Jv_density = np.zeros(ne)\n",
    "    for i in range(0, ne):\n",
    "        vx[i] = (v[i + 1] - v[i]) / h\n",
    "        x_mid[i] = (x[i + 1] + x[i]) / 2\n",
    "        v_mid[i] = (v[i + 1] + v[i]) / 2\n",
    "        Jv_density[i] = (1 / p) * np.power(abs(vx[i]), p) - f(x_mid[i]) * v_mid[i]\n",
    "\n",
    "    return h * np.sum(Jv_density)\n",
    "\n",
    "\n",
    "# exact minimizer for p=2\n",
    "def u_init(x):\n",
    "    return 0 * (x + 1) * (x - 1)\n",
    "\n",
    "\n",
    "# rhs\n",
    "def f(x):\n",
    "    return -10 * np.ones(x.size)"
   ]
  },
  {
   "cell_type": "code",
   "execution_count": 6,
   "metadata": {},
   "outputs": [
    {
     "name": "stdout",
     "output_type": "stream",
     "text": [
      "energy (init)= 0.0\n"
     ]
    }
   ],
   "source": [
    "p, a, b = 3, -1, 1\n",
    "ne = 40\n",
    "x = np.linspace(a, b, ne + 1)\n",
    "\n",
    "v = u_init(x)            # testing function\n",
    "v_internal = v[1:-1]\n",
    "\n",
    "print(\"energy (init)=\", energy(v_internal, x, v, p))"
   ]
  },
  {
   "cell_type": "markdown",
   "metadata": {},
   "source": [
    "# minimalizace pomocí scipy.optimize.minimize\n",
    "timer_decorator je dekorátor:\n",
    "- měří čas běhu funkce a po dokončení vypíše čas\n",
    "- dá se použít na funkci pomocí `@timer_decorator`\n",
    "- nebo se dá existující funkce obalit pomocí `f = timer_decorator(f)`"
   ]
  },
  {
   "cell_type": "code",
   "execution_count": 7,
   "metadata": {},
   "outputs": [
    {
     "name": "stdout",
     "output_type": "stream",
     "text": [
      "minimize#0: 1.185 s\n",
      "energy (scipy optim)= -16.859280970966548\n"
     ]
    }
   ],
   "source": [
    "minimize_timed = timer_decorator(minimize)\n",
    "\n",
    "solopt = minimize_timed(energy, v_internal, args=(x, v, p))\n",
    "u_internal = solopt.x\n",
    "\n",
    "print(\"energy (scipy optim)=\", energy(u_internal, x, v, p,))"
   ]
  },
  {
   "cell_type": "markdown",
   "metadata": {},
   "source": [
    "# řešení s nějakou mojí mizernou implementací quasi-newtona s diferencema a bfgs"
   ]
  },
  {
   "cell_type": "code",
   "execution_count": 8,
   "metadata": {},
   "outputs": [
    {
     "name": "stdout",
     "output_type": "stream",
     "text": [
      "Stopping condition for f is satisfied\n",
      "it=164, f=-16.859280180469863, c=1.0, rho=-0.8912273181304086, ||g||=0.009522464829634177\n",
      "trust_region_quasi#1: 3.386 s\n",
      "energy (my optim)= -16.859280180469863\n"
     ]
    }
   ],
   "source": [
    "from my_solvers import trust_region_quasi\n",
    "\n",
    "fun = lambda v_internal: energy(v_internal, x, v, p)\n",
    "\n",
    "solopt, iter = trust_region_quasi(fun, x0=v_internal, c0=1, tolf=1e-6, tolg=1e-3, maxit=1000, h_diff=1e-6)\n",
    "\n",
    "print(\"energy (my optim)=\", energy(solopt, x, v, p))"
   ]
  },
  {
   "cell_type": "code",
   "execution_count": 9,
   "metadata": {},
   "outputs": [
    {
     "data": {
      "image/png": "[encoded data removed]",
      "text/plain": [
       "<Figure size 640x480 with 1 Axes>"
      ]
     },
     "metadata": {},
     "output_type": "display_data"
    }
   ],
   "source": [
    "u_a = v[0]                # v at the left end\n",
    "u_b = v[-1]               # v at the right end\n",
    "u = np.concatenate(([u_a], u_internal, [u_b]))\n",
    "u_trust_region = np.concatenate(([u_a], solopt, [u_b]))\n",
    "\n",
    "plt.plot(x, u_trust_region, label=\"trust region\")\n",
    "plt.plot(x, u, label=\"scipy\")\n",
    "plt.plot(x[[0, -1]], v[[0, -1]], 'ro')\n",
    "plt.legend()\n",
    "plt.show()\n"
   ]
  },
  {
   "cell_type": "markdown",
   "metadata": {},
   "source": [
    "# jemnější síť"
   ]
  },
  {
   "cell_type": "code",
   "execution_count": 10,
   "metadata": {},
   "outputs": [
    {
     "name": "stdout",
     "output_type": "stream",
     "text": [
      "energy (init)= 0.0\n"
     ]
    }
   ],
   "source": [
    "p, a, b = 3, -1, 1\n",
    "ne = 100\n",
    "x = np.linspace(a, b, ne + 1)\n",
    "\n",
    "v = u_init(x)            # testing function\n",
    "v_internal = v[1:-1]\n",
    "\n",
    "print(\"energy (init)=\", energy(v_internal, x, v, p))"
   ]
  },
  {
   "cell_type": "code",
   "execution_count": 11,
   "metadata": {},
   "outputs": [
    {
     "name": "stdout",
     "output_type": "stream",
     "text": [
      "minimize#0: 14.977 s\n",
      "energy (scipy optim)= -16.86446605262881\n"
     ]
    }
   ],
   "source": [
    "minimize_timed = timer_decorator(minimize)\n",
    "\n",
    "solopt = minimize_timed(energy, v_internal, args=(x, v, p))\n",
    "u_internal = solopt.x\n",
    "\n",
    "print(\"energy (scipy optim)=\", energy(u_internal, x, v, p,))"
   ]
  },
  {
   "cell_type": "code",
   "execution_count": null,
   "metadata": {},
   "outputs": [],
   "source": [
    "\n",
    "fun = lambda v_internal: energy(v_internal, x, v, p)\n",
    "\n",
    "solopt, iter = trust_region_quasi(fun, x0=v_internal, c0=1, tolf=1e-6, tolg=1e-3, maxit=1000, h_diff=1e-6)\n",
    "\n",
    "print(\"energy (my optim)=\", energy(solopt, x, v, p))"
   ]
  },
  {
   "cell_type": "code",
   "execution_count": null,
   "metadata": {},
   "outputs": [],
   "source": [
    "u_a = v[0]                # v at the left end\n",
    "u_b = v[-1]               # v at the right end\n",
    "u = np.concatenate(([u_a], u_internal, [u_b]))\n",
    "u_trust_region = np.concatenate(([u_a], solopt, [u_b]))\n",
    "\n",
    "plt.plot(x, u_trust_region, label=\"trust region\")\n",
    "plt.plot(x, u, label=\"scipy\")\n",
    "plt.plot(x[[0, -1]], v[[0, -1]], 'ro')\n",
    "plt.legend()\n",
    "plt.show()\n"
   ]
  },
  {
   "cell_type": "code",
   "execution_count": null,
   "metadata": {},
   "outputs": [],
   "source": []
  },
  {
   "cell_type": "code",
   "execution_count": null,
   "metadata": {},
   "outputs": [],
   "source": []
  }
 ],
 "metadata": {
  "kernelspec": {
   "display_name": "Python 3 (ipykernel)",
   "language": "python",
   "name": "python3"
  },
  "language_info": {
   "codemirror_mode": {
    "name": "ipython",
    "version": 3
   },
   "file_extension": ".py",
   "mimetype": "text/x-python",
   "name": "python",
   "nbconvert_exporter": "python",
   "pygments_lexer": "ipython3",
   "version": "3.9.16"
  }
 },
 "nbformat": 4,
 "nbformat_minor": 2
}
