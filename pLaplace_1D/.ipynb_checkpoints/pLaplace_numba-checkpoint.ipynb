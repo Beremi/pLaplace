{
 "cells": [
  {
   "cell_type": "code",
   "execution_count": 1,
   "metadata": {},
   "outputs": [
    {
     "name": "stdout",
     "output_type": "stream",
     "text": [
      "Intel MKL WARNING: Support of Intel(R) Streaming SIMD Extensions 4.2 (Intel(R) SSE4.2) enabled only processors has been deprecated. Intel oneAPI Math Kernel Library 2025.0 will require Intel(R) Advanced Vector Extensions (Intel(R) AVX) instructions.\n",
      "Intel MKL WARNING: Support of Intel(R) Streaming SIMD Extensions 4.2 (Intel(R) SSE4.2) enabled only processors has been deprecated. Intel oneAPI Math Kernel Library 2025.0 will require Intel(R) Advanced Vector Extensions (Intel(R) AVX) instructions.\n"
     ]
    }
   ],
   "source": [
    "import numpy as np\n",
    "import matplotlib.pyplot as plt\n",
    "from scipy.optimize import minimize\n",
    "import numba\n",
    "\n",
    "from my_timer import timer_decorator"
   ]
  },
  {
   "cell_type": "markdown",
   "metadata": {},
   "source": [
    "# funkcionály optimalizované pro numpy"
   ]
  },
  {
   "cell_type": "code",
   "execution_count": 2,
   "metadata": {},
   "outputs": [],
   "source": [
    "p, a, b = 3, -1, 1\n",
    "ne = 200\n",
    "x = np.linspace(a, b, ne + 1)\n",
    "h = np.diff(x)\n",
    "\n",
    "\n",
    "def energy_numpy(v_internal, fx, v, h, p):\n",
    "    v[1:-1] = v_internal\n",
    "    vx = (v[1:] - v[:-1]) / h\n",
    "    v_mid = (v[1:] + v[:-1]) / 2\n",
    "    Jv_density = (1 / p) * np.abs(vx)**p - fx * v_mid\n",
    "\n",
    "    return np.sum(h * Jv_density)\n",
    "\n",
    "\n",
    "# exact minimizer for p=2\n",
    "def u_init(x):\n",
    "    return 0 * (x + 1) * (x - 1)\n",
    "\n",
    "\n",
    "# rhs\n",
    "def f(x):\n",
    "    return -10 * np.ones(x.size)\n",
    "\n",
    "\n",
    "v = u_init(x)            # testing function\n",
    "v_internal = v[1:-1].copy()\n",
    "\n",
    "x_mid = (x[1:] + x[:-1]) / 2\n",
    "fx = f(x_mid)"
   ]
  },
  {
   "cell_type": "markdown",
   "metadata": {},
   "source": [
    "# minimalizace numpy implementace\n",
    "cca 3x rychlejší než bez numpy"
   ]
  },
  {
   "cell_type": "code",
   "execution_count": 3,
   "metadata": {},
   "outputs": [
    {
     "name": "stdout",
     "output_type": "stream",
     "text": [
      "energy (init)= 0.0\n",
      "minimize#0: 1.862 s\n",
      "energy (final)= -16.865224259385933\n",
      "215\n"
     ]
    }
   ],
   "source": [
    "\n",
    "minimize_timed = timer_decorator(minimize)\n",
    "\n",
    "print(\"energy (init)=\", energy_numpy(v_internal, fx, v, h, p))\n",
    "\n",
    "\n",
    "solopt = minimize_timed(energy_numpy, v_internal, args=(fx, v, h, p))\n",
    "\n",
    "print(\"energy (final)=\", energy_numpy(solopt.x, fx, v, h, p))\n",
    "print(solopt.nit)"
   ]
  },
  {
   "cell_type": "markdown",
   "metadata": {},
   "source": [
    "# numba\n",
    "4s vs 7s u mně, tedy asi o 75% rychlejší"
   ]
  },
  {
   "cell_type": "code",
   "execution_count": 4,
   "metadata": {},
   "outputs": [],
   "source": [
    "from numba import jit, float64, boolean, int64, prange\n",
    "import numpy as np\n",
    "\n",
    "@jit(nopython=True)\n",
    "def energy_numba(v_internal, fx, v, h, p):\n",
    "    v[1:-1] = v_internal\n",
    "    n = h.shape[0]\n",
    "    Jv_density = 0.0\n",
    "    for i in range(n):\n",
    "        Jv_density += h[i] * ((1 / p) * np.abs((v[i+1] - v[i]) / h[i])**p - fx [i]* (v[i+1] + v[i]) / 2)\n",
    "    return Jv_density\n"
   ]
  },
  {
   "cell_type": "code",
   "execution_count": 5,
   "metadata": {},
   "outputs": [
    {
     "name": "stdout",
     "output_type": "stream",
     "text": [
      "energy (init)= 0.0\n",
      "minimize#1: 802.189 ms\n",
      "energy (final)= -16.865224259985112\n",
      "211\n"
     ]
    }
   ],
   "source": [
    "print(\"energy (init)=\", energy_numba(v_internal, fx, v, h, p))\n",
    "\n",
    "\n",
    "solopt = minimize_timed(energy_numba, v_internal, args=(fx, v, h, p))\n",
    "\n",
    "print(\"energy (final)=\", energy_numba(solopt.x, fx, v, h, p))\n",
    "print(solopt.nit)"
   ]
  },
  {
   "cell_type": "markdown",
   "metadata": {},
   "source": [
    "# jemnější síť"
   ]
  },
  {
   "cell_type": "code",
   "execution_count": 6,
   "metadata": {},
   "outputs": [],
   "source": [
    "p, a, b = 3, -1, 1\n",
    "ne = 500\n",
    "x = np.linspace(a, b, ne + 1)\n",
    "h = np.diff(x)\n",
    "\n",
    "v = u_init(x)            # testing function\n",
    "v_internal = v[1:-1].copy()\n",
    "\n",
    "x_mid = (x[1:] + x[:-1]) / 2\n",
    "fx = f(x_mid)"
   ]
  },
  {
   "cell_type": "code",
   "execution_count": 7,
   "metadata": {},
   "outputs": [
    {
     "name": "stdout",
     "output_type": "stream",
     "text": [
      "energy (init)= 0.0\n",
      "minimize#2: 16.066 s\n",
      "energy (final)= -16.865438701174597\n",
      "509\n"
     ]
    }
   ],
   "source": [
    "\n",
    "print(\"energy (init)=\", energy_numpy(v_internal, fx, v, h, p))\n",
    "\n",
    "\n",
    "solopt = minimize_timed(energy_numpy, v_internal, args=(fx, v, h, p))\n",
    "\n",
    "print(\"energy (final)=\", energy_numpy(solopt.x, fx, v, h, p))\n",
    "print(solopt.nit)"
   ]
  },
  {
   "cell_type": "code",
   "execution_count": 8,
   "metadata": {},
   "outputs": [
    {
     "name": "stdout",
     "output_type": "stream",
     "text": [
      "energy (init)= 0.0\n",
      "minimize#3: 8.455 s\n",
      "energy (final)= -16.865438699734423\n",
      "510\n"
     ]
    }
   ],
   "source": [
    "print(\"energy (init)=\", energy_numba(v_internal, fx, v, h, p))\n",
    "\n",
    "\n",
    "solopt = minimize_timed(energy_numba, v_internal, args=(fx, v, h, p))\n",
    "\n",
    "print(\"energy (final)=\", energy_numba(solopt.x, fx, v, h, p))\n",
    "print(solopt.nit)"
   ]
  },
  {
   "cell_type": "markdown",
   "metadata": {},
   "source": [
    "numba byla opět 1.75x rychlejši 47s vs 27s"
   ]
  },
  {
   "cell_type": "markdown",
   "metadata": {},
   "source": []
  },
  {
   "cell_type": "code",
   "execution_count": null,
   "metadata": {},
   "outputs": [],
   "source": []
  }
 ],
 "metadata": {
  "kernelspec": {
   "display_name": "Python 3 (ipykernel)",
   "language": "python",
   "name": "python3"
  },
  "language_info": {
   "codemirror_mode": {
    "name": "ipython",
    "version": 3
   },
   "file_extension": ".py",
   "mimetype": "text/x-python",
   "name": "python",
   "nbconvert_exporter": "python",
   "pygments_lexer": "ipython3",
   "version": "3.9.16"
  }
 },
 "nbformat": 4,
 "nbformat_minor": 2
}
