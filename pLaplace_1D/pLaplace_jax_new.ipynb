{
 "cells": [
  {
   "cell_type": "code",
   "execution_count": 140,
   "metadata": {},
   "outputs": [],
   "source": [
    "import matplotlib.pyplot as plt\n",
    "import scipy.optimize as spo\n",
    "import jax.numpy as np\n",
    "jnp = np\n",
    "import jax\n",
    "\n",
    "from my_timer import timer_decorator"
   ]
  },
  {
   "attachments": {},
   "cell_type": "markdown",
   "metadata": {},
   "source": [
    "# Definice funkcí s jax knihovnou pro možnost automatické derivace (np je nyní z jax.numpy)"
   ]
  },
  {
   "cell_type": "code",
   "execution_count": 141,
   "metadata": {},
   "outputs": [],
   "source": [
    "def energy_jax(v_internal, fx, v, h, p):\n",
    "    v = v.at[1:-1].set(v_internal)\n",
    "    vx = (v[1:] - v[:-1]) / h\n",
    "    v_mid = (v[1:] + v[:-1]) / 2\n",
    "    Jv_density = (1 / p) * np.abs(vx)**p - fx * v_mid\n",
    "\n",
    "    return np.sum(h * Jv_density)\n",
    "\n",
    "\n",
    "# exact minimizer for p=2\n",
    "def u_init(x):\n",
    "    return 0 * (x + 1) * (x - 1)\n",
    "\n",
    "\n",
    "# rhs\n",
    "def f(x):\n",
    "    return -10 * np.ones(x.size)\n"
   ]
  },
  {
   "attachments": {},
   "cell_type": "markdown",
   "metadata": {},
   "source": [
    "# úloha stejně jako v pLaPlace_numba"
   ]
  },
  {
   "cell_type": "code",
   "execution_count": 142,
   "metadata": {},
   "outputs": [],
   "source": [
    "p, a, b = 3, -1, 1\n",
    "ne = 1000\n",
    "x = np.linspace(a, b, ne + 1)\n",
    "h = np.diff(x)\n",
    "\n",
    "v = u_init(x)            # testing function\n",
    "v_internal = v[1:-1].copy()\n",
    "x0 = v_internal.copy()   # initial guess\n",
    "\n",
    "\n",
    "x_mid = (x[1:] + x[:-1]) / 2\n",
    "fx = f(x_mid)"
   ]
  },
  {
   "attachments": {},
   "cell_type": "markdown",
   "metadata": {},
   "source": [
    "# Definování funkce, gradientu a hesiánu; nastavení automatické kompilace jit; vyrobení funce s jedním vstupem"
   ]
  },
  {
   "cell_type": "code",
   "execution_count": 143,
   "metadata": {},
   "outputs": [],
   "source": [
    "# automatická derivace a kompilace\n",
    "fun = jax.jit(energy_jax)\n",
    "dfun = jax.jit(jax.grad(energy_jax, argnums=0))\n",
    "fun1 = lambda v_internal: fun(v_internal, fx, v, h, p)\n",
    "dfun1 = lambda v_internal: dfun(v_internal, fx, v, h, p)"
   ]
  },
  {
   "attachments": {},
   "cell_type": "markdown",
   "metadata": {},
   "source": [
    "# V následujících třech buňkách se s prvním zavoláním funkce rovnou kompiluje jit "
   ]
  },
  {
   "cell_type": "code",
   "execution_count": 144,
   "metadata": {},
   "outputs": [
    {
     "name": "stdout",
     "output_type": "stream",
     "text": [
      "Initial energy: 0.0\n",
      "||g||=0.632139265537262\n"
     ]
    }
   ],
   "source": [
    "print(f\"Initial energy: {fun1(v_internal)}\")\n",
    "print(f\"||g||={np.linalg.norm(dfun1(v_internal))}\")"
   ]
  },
  {
   "attachments": {},
   "cell_type": "markdown",
   "metadata": {},
   "source": [
    "# solution using laplace approximation of hessian and line search using golden section search"
   ]
  },
  {
   "cell_type": "code",
   "execution_count": 145,
   "metadata": {},
   "outputs": [],
   "source": [
    "import numpy\n",
    "def zlatyrez(f, a, b, x, ddd, tol):\n",
    "    gamma = 1/2 + numpy.sqrt(5)/2\n",
    "    a0 = a\n",
    "    b0 = b\n",
    "    d0 = (b0-a0)/gamma + a0\n",
    "    c0 = a0 + b0 - d0\n",
    "    it = 0\n",
    "    an = a0\n",
    "    bn = b0\n",
    "    cn = c0\n",
    "    dn = d0\n",
    "    fcn = f(x + cn * ddd)\n",
    "    fdn = f(x + dn * ddd)\n",
    "\n",
    "    while bn - an > tol:\n",
    "        a = an\n",
    "        b = bn\n",
    "        c = cn\n",
    "        d = dn\n",
    "        fc = fcn\n",
    "        fd = fdn\n",
    "\n",
    "        if fc < fd:\n",
    "            an = a\n",
    "            bn = d\n",
    "            dn = c\n",
    "            cn = an + bn - dn\n",
    "            fcn = f(x + cn * ddd)\n",
    "            fdn = fc\n",
    "        else:\n",
    "            an = c\n",
    "            bn = b\n",
    "            cn = d\n",
    "            dn = an + bn - cn\n",
    "            fcn = fd\n",
    "            fdn = f(x + dn * ddd)\n",
    "\n",
    "        it += 1\n",
    "\n",
    "    t = (an + bn) / 2\n",
    "    return t, it\n"
   ]
  },
  {
   "cell_type": "code",
   "execution_count": 146,
   "metadata": {},
   "outputs": [],
   "source": [
    "import numpy\n",
    "@timer_decorator\n",
    "def gradient_line_search(f, df, hess_approx_sol, x0, tolf=1e-6, tolg=1e-3, maxit=1000, verbose=False):\n",
    "    \"\"\"\n",
    "    Trust Region (quasi-Newton method)\n",
    "\n",
    "    Parameters\n",
    "    ----------\n",
    "    f : function\n",
    "        The objective function to be minimized.\n",
    "    df : function\n",
    "        The gradient of the objective function.\n",
    "    hess_approx_sol : function\n",
    "        Apply the inverse of the approximate Hessian to a vector.\n",
    "    x0 : numpy.ndarray\n",
    "        The initial guess for the minimum.\n",
    "    tolf : float\n",
    "        The tolerance for the stopping condition for f.\n",
    "    tolg : float\n",
    "        The tolerance for the stopping condition for g.\n",
    "    maxit : int\n",
    "        The maximum number of iterations.\n",
    "    verbose : bool\n",
    "        If True, print the iteration number, the value of f, the size of the\n",
    "        trust region, and the norm of the gradient.\n",
    "\n",
    "    Returns\n",
    "    -------\n",
    "    xmin : numpy.ndarray\n",
    "        The found minimum.\n",
    "    it : int\n",
    "        The number of iterations.\n",
    "    \"\"\"\n",
    "\n",
    "    x = x0\n",
    "    it = maxit\n",
    "    fx = f(x)\n",
    "    fx_old = -np.inf\n",
    "    dfx = df(x)\n",
    "    t0 = 1\n",
    "    norm_dfx = np.linalg.norm(dfx)\n",
    "    norm_fx = np.abs(fx - fx_old)\n",
    "    for i in range(maxit):\n",
    "        if norm_dfx < tolg:\n",
    "            it = i\n",
    "            break\n",
    "        if norm_fx < tolf:\n",
    "            it = i\n",
    "            break\n",
    "        dfx_laplace = -hess_approx_sol(numpy.array(dfx))\n",
    "        t, zit = zlatyrez(f,0,t0,x,dfx_laplace,1e-1)\n",
    "        t0 = t*2\n",
    "        x = x + t * dfx_laplace\n",
    "        fx_old = fx\n",
    "        fx = f(x)\n",
    "        dfx = df(x)\n",
    "        norm_dfx = np.linalg.norm(dfx)\n",
    "        norm_fx = np.abs(fx - fx_old)\n",
    "        if verbose:\n",
    "            print(f\"it={i}, f={fx}, ||g||={norm_dfx}, , |f - fold|={norm_fx} ,t={t},zit={zit}\")\n",
    "\n",
    "    \n",
    "    print(f\"it={it}, f={fx}, ||g||={norm_dfx}, , |f - fold|={norm_fx}\")\n",
    "    return x, it"
   ]
  },
  {
   "cell_type": "code",
   "execution_count": 147,
   "metadata": {},
   "outputs": [],
   "source": [
    "import numpy as np\n",
    "from scipy.sparse import diags\n",
    "def laplace_1D(x):\n",
    "    # Calculate distances between nodes\n",
    "    h = np.diff(x)\n",
    "\n",
    "    # Initialize diagonals\n",
    "    main_diag = np.hstack((1, 1/h[:-1] + 1/h[1:], 1))\n",
    "    lower_diag = np.hstack((0, -1/h[1:]))\n",
    "    upper_diag = np.hstack((-1/h[:-1], 0))\n",
    "\n",
    "    # Create the sparse matrix\n",
    "    laplace_matrix = diags([lower_diag, main_diag, upper_diag], [-1, 0, 1]).tocsc()\n",
    "\n",
    "\n",
    "    return laplace_matrix[1:-1,1:-1]"
   ]
  },
  {
   "cell_type": "code",
   "execution_count": 148,
   "metadata": {},
   "outputs": [],
   "source": [
    "from scipy.sparse.linalg import factorized\n",
    "A = laplace_1D(x)\n",
    "hess_approx_sol = factorized(A)"
   ]
  },
  {
   "cell_type": "code",
   "execution_count": 149,
   "metadata": {},
   "outputs": [
    {
     "name": "stdout",
     "output_type": "stream",
     "text": [
      "it=0, f=-16.219789505004883, ||g||=0.5578626394271851, , |f - fold|=16.219789505004883 ,t=0.3713228931240005,zit=5\n",
      "it=1, f=-16.740949630737305, ||g||=0.26423609256744385, , |f - fold|=0.5211601257324219 ,t=0.2087970531441898,zit=5\n",
      "it=2, f=-16.83684539794922, ||g||=0.18484675884246826, , |f - fold|=0.09589576721191406 ,t=0.2697232121573846,zit=3\n",
      "it=3, f=-16.85620880126953, ||g||=0.11121352761983871, , |f - fold|=0.0193634033203125 ,t=0.21533996640438027,zit=4\n",
      "it=4, f=-16.862056732177734, ||g||=0.09103614836931229, , |f - fold|=0.005847930908203125 ,t=0.29759251443459306,zit=4\n",
      "it=5, f=-16.863948822021484, ||g||=0.06916454434394836, , |f - fold|=0.00189208984375 ,t=0.2375900892917858,zit=4\n",
      "it=6, f=-16.86472511291504, ||g||=0.058553390204906464, , |f - fold|=0.0007762908935546875 ,t=0.28549445803737983,zit=4\n",
      "it=7, f=-16.865070343017578, ||g||=0.04970771074295044, , |f - fold|=0.0003452301025390625 ,t=0.25975143881536267,zit=4\n",
      "it=8, f=-16.865243911743164, ||g||=0.04417453706264496, , |f - fold|=0.0001735687255859375 ,t=0.31212411456248995,zit=4\n",
      "it=9, f=-16.865337371826172, ||g||=0.03861575573682785, , |f - fold|=9.34600830078125e-05 ,t=0.24919173921399304,zit=4\n",
      "it=10, f=-16.865385055541992, ||g||=0.03527632728219032, , |f - fold|=4.76837158203125e-05 ,t=0.3443745138780384,zit=4\n",
      "it=11, f=-16.86541748046875, ||g||=0.03151092305779457, , |f - fold|=3.24249267578125e-05 ,t=0.25574828162272945,zit=5\n",
      "it=12, f=-16.865434646606445, ||g||=0.028898341581225395, , |f - fold|=1.71661376953125e-05 ,t=0.27880908979067565,zit=4\n",
      "it=13, f=-16.86544418334961, ||g||=0.026741022244095802, , |f - fold|=9.5367431640625e-06 ,t=0.303949289733943,zit=4\n",
      "it=14, f=-16.86544418334961, ||g||=0.026741022244095802, , |f - fold|=9.5367431640625e-06\n",
      "gradient_line_search#0: 28.507 ms\n"
     ]
    }
   ],
   "source": [
    "resx, it = gradient_line_search(fun1, dfun1, hess_approx_sol, x0, tolf=1e-5, tolg=1e-3, maxit=10000, verbose=True)"
   ]
  },
  {
   "cell_type": "code",
   "execution_count": 150,
   "metadata": {},
   "outputs": [
    {
     "data": {
      "text/plain": [
       "[<matplotlib.lines.Line2D at 0x7fa70bac5950>]"
      ]
     },
     "execution_count": 150,
     "metadata": {},
     "output_type": "execute_result"
    },
    {
     "data": {
      "image/png": "[encoded data removed]",
      "text/plain": [
       "<Figure size 640x480 with 1 Axes>"
      ]
     },
     "metadata": {},
     "output_type": "display_data"
    }
   ],
   "source": [
    "plt.plot(resx)"
   ]
  },
  {
   "cell_type": "code",
   "execution_count": 151,
   "metadata": {},
   "outputs": [
    {
     "name": "stdout",
     "output_type": "stream",
     "text": [
      "The line_profiler extension is already loaded. To reload it, use:\n",
      "  %reload_ext line_profiler\n"
     ]
    }
   ],
   "source": [
    "%load_ext line_profiler"
   ]
  },
  {
   "cell_type": "code",
   "execution_count": 152,
   "metadata": {},
   "outputs": [
    {
     "name": "stdout",
     "output_type": "stream",
     "text": [
      "it=14, f=-16.86544418334961, ||g||=0.026741022244095802, , |f - fold|=9.5367431640625e-06\n",
      "gradient_line_search#1: 24.263 ms\n"
     ]
    },
    {
     "name": "stdout",
     "output_type": "stream",
     "text": [
      "Timer unit: 1e-09 s\n",
      "\n",
      "Total time: 0.0136327 s\n",
      "File: /tmp/ipykernel_241669/2353539590.py\n",
      "Function: zlatyrez at line 2\n",
      "\n",
      "Line #      Hits         Time  Per Hit   % Time  Line Contents\n",
      "==============================================================\n",
      "     2                                           def zlatyrez(f, a, b, x, ddd, tol):\n",
      "     3        14     216199.0  15442.8      1.6      gamma = 1/2 + numpy.sqrt(5)/2\n",
      "     4        14       8198.0    585.6      0.1      a0 = a\n",
      "     5        14       6834.0    488.1      0.1      b0 = b\n",
      "     6        14      28900.0   2064.3      0.2      d0 = (b0-a0)/gamma + a0\n",
      "     7        14      20526.0   1466.1      0.2      c0 = a0 + b0 - d0\n",
      "     8        14       6173.0    440.9      0.0      it = 0\n",
      "     9        14      11703.0    835.9      0.1      an = a0\n",
      "    10        14       5522.0    394.4      0.0      bn = b0\n",
      "    11        14       8864.0    633.1      0.1      cn = c0\n",
      "    12        14       5570.0    397.9      0.0      dn = d0\n",
      "    13        14    1909366.0 136383.3     14.0      fcn = f(x + cn * ddd)\n",
      "    14        14    1507702.0 107693.0     11.1      fdn = f(x + dn * ddd)\n",
      "    15                                           \n",
      "    16        58     123661.0   2132.1      0.9      while bn - an > tol:\n",
      "    17        58      27584.0    475.6      0.2          a = an\n",
      "    18        58      22204.0    382.8      0.2          b = bn\n",
      "    19        58      28024.0    483.2      0.2          c = cn\n",
      "    20        58      23731.0    409.2      0.2          d = dn\n",
      "    21        58      50521.0    871.1      0.4          fc = fcn\n",
      "    22        58      49960.0    861.4      0.4          fd = fdn\n",
      "    23                                           \n",
      "    24        29    2494225.0  86007.8     18.3          if fc < fd:\n",
      "    25        29      17120.0    590.3      0.1              an = a\n",
      "    26        29      10816.0    373.0      0.1              bn = d\n",
      "    27        29      10866.0    374.7      0.1              dn = c\n",
      "    28        29      52707.0   1817.5      0.4              cn = an + bn - dn\n",
      "    29        29    3863984.0 133240.8     28.3              fcn = f(x + cn * ddd)\n",
      "    30        29      21307.0    734.7      0.2              fdn = fc\n",
      "    31                                                   else:\n",
      "    32        29      16200.0    558.6      0.1              an = c\n",
      "    33        29      14806.0    510.6      0.1              bn = b\n",
      "    34        29      11099.0    382.7      0.1              cn = d\n",
      "    35        29      47815.0   1648.8      0.4              dn = an + bn - cn\n",
      "    36        29       9890.0    341.0      0.1              fcn = fd\n",
      "    37        29    2913637.0 100470.2     21.4              fdn = f(x + dn * ddd)\n",
      "    38                                           \n",
      "    39        58      55825.0    962.5      0.4          it += 1\n",
      "    40                                           \n",
      "    41        14      22305.0   1593.2      0.2      t = (an + bn) / 2\n",
      "    42        14       8865.0    633.2      0.1      return t, it\n",
      "\n",
      "Total time: 0.0239745 s\n",
      "File: /tmp/ipykernel_241669/66793621.py\n",
      "Function: gradient_line_search at line 2\n",
      "\n",
      "Line #      Hits         Time  Per Hit   % Time  Line Contents\n",
      "=============================================================="
     ]
    }
   ],
   "source": [
    "%lprun -f gradient_line_search.__wrapped__ -f zlatyrez gradient_line_search(fun1, dfun1, hess_approx_sol, x0, tolf=1e-5, tolg=1e-3, maxit=10000, verbose=False)"
   ]
  },
  {
   "cell_type": "code",
   "execution_count": null,
   "metadata": {},
   "outputs": [],
   "source": []
  }
 ],
 "metadata": {
  "kernelspec": {
   "display_name": "Python 3",
   "language": "python",
   "name": "python3"
  },
  "language_info": {
   "codemirror_mode": {
    "name": "ipython",
    "version": 3
   },
   "file_extension": ".py",
   "mimetype": "text/x-python",
   "name": "python",
   "nbconvert_exporter": "python",
   "pygments_lexer": "ipython3",
   "version": "3.11.3"
  },
  "orig_nbformat": 4
 },
 "nbformat": 4,
 "nbformat_minor": 2
}
