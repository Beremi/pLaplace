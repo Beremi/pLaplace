{
 "cells": [
  {
   "cell_type": "code",
   "execution_count": null,
   "metadata": {},
   "outputs": [],
   "source": [
    "import matplotlib.pyplot as plt\n",
    "import scipy.optimize as spo\n",
    "import jax.numpy as np\n",
    "jnp = np\n",
    "import jax\n",
    "\n",
    "from my_timer import timer_decorator\n",
    "from my_solvers import trust_region"
   ]
  },
  {
   "attachments": {},
   "cell_type": "markdown",
   "metadata": {},
   "source": [
    "# Definice funkcí s jax knihovnou pro možnost automatické derivace (np je nyní z jax.numpy)"
   ]
  },
  {
   "cell_type": "code",
   "execution_count": null,
   "metadata": {},
   "outputs": [],
   "source": [
    "def energy_jax(v_internal, fx, v, h, p):\n",
    "    v = v.at[1:-1].set(v_internal)\n",
    "    vx = (v[1:] - v[:-1]) / h\n",
    "    v_mid = (v[1:] + v[:-1]) / 2\n",
    "    Jv_density = (1 / p) * np.abs(vx)**p - fx * v_mid\n",
    "\n",
    "    return np.sum(h * Jv_density)\n",
    "\n",
    "\n",
    "# exact minimizer for p=2\n",
    "def u_init(x):\n",
    "    return 0 * (x + 1) * (x - 1)\n",
    "\n",
    "\n",
    "# rhs\n",
    "def f(x):\n",
    "    return -10 * np.ones(x.size)\n"
   ]
  },
  {
   "attachments": {},
   "cell_type": "markdown",
   "metadata": {},
   "source": [
    "# úloha stejně jako v pLaPlace_numba"
   ]
  },
  {
   "cell_type": "code",
   "execution_count": null,
   "metadata": {},
   "outputs": [],
   "source": [
    "p, a, b = 3, -1, 1\n",
    "ne = 500\n",
    "x = np.linspace(a, b, ne + 1)\n",
    "h = np.diff(x)\n",
    "\n",
    "v = u_init(x)            # testing function\n",
    "v_internal = v[1:-1].copy()\n",
    "x0 = v_internal.copy()   # initial guess\n",
    "\n",
    "\n",
    "x_mid = (x[1:] + x[:-1]) / 2\n",
    "fx = f(x_mid)"
   ]
  },
  {
   "attachments": {},
   "cell_type": "markdown",
   "metadata": {},
   "source": [
    "# Definování funkce, gradientu a hesiánu; nastavení automatické kompilace jit; vyrobení funce s jedním vstupem"
   ]
  },
  {
   "cell_type": "code",
   "execution_count": null,
   "metadata": {},
   "outputs": [],
   "source": [
    "# automatická derivace a kompilace\n",
    "fun = jax.jit(energy_jax)\n",
    "dfun = jax.jit(jax.grad(energy_jax, argnums=0))\n",
    "ddfun = jax.jit(jax.hessian(energy_jax, argnums=0))\n",
    "fun1 = lambda v_internal: fun(v_internal, fx, v, h, p)\n",
    "dfun1 = lambda v_internal: dfun(v_internal, fx, v, h, p)\n",
    "ddfun1 = lambda v_internal: ddfun(v_internal, fx, v, h, p)"
   ]
  },
  {
   "attachments": {},
   "cell_type": "markdown",
   "metadata": {},
   "source": [
    "# V následujících třech buňkách se s prvním zavoláním funkce rovnou kompiluje jit "
   ]
  },
  {
   "cell_type": "code",
   "execution_count": null,
   "metadata": {},
   "outputs": [],
   "source": [
    "print(f\"Initial energy: {fun1(v_internal)}\")"
   ]
  },
  {
   "cell_type": "code",
   "execution_count": null,
   "metadata": {},
   "outputs": [],
   "source": [
    "print(f\"||g||={np.linalg.norm(dfun1(v_internal))}\")"
   ]
  },
  {
   "cell_type": "code",
   "execution_count": null,
   "metadata": {},
   "outputs": [],
   "source": [
    "print(f\"||H||={np.linalg.norm(ddfun1(v_internal))}\")"
   ]
  },
  {
   "attachments": {},
   "cell_type": "markdown",
   "metadata": {},
   "source": [
    "# vyzkoušení řešení úlohy pomocí trust regionu z my_solvers.py\n",
    "u mně to trvalo cca 0.5s pro úlohu s dělením 200 a p=3\n",
    "\n",
    "pro dělení 500 a p=3 to trvalo cca 2.1s v porovnání s implementací bez derivací s numbou 27s"
   ]
  },
  {
   "cell_type": "code",
   "execution_count": null,
   "metadata": {},
   "outputs": [],
   "source": [
    "solopt, iterations = trust_region(fun1 , dfun1, ddfun1, x0, c0=1, tolf=1e-6, tolg=1e-6, maxit=1000, verbose = False)"
   ]
  },
  {
   "attachments": {},
   "cell_type": "markdown",
   "metadata": {},
   "source": [
    "# Pokus o vyřešení pomocí scipy.optimize.minimize, zde bez použití gradientu a hesiánu, pozor vrací špatný výsledek"
   ]
  },
  {
   "cell_type": "code",
   "execution_count": null,
   "metadata": {},
   "outputs": [],
   "source": [
    "# comparison with scipy minimization\n",
    "from scipy.optimize import minimize\n",
    "\n",
    "\n",
    "minimize_timed = timer_decorator(minimize)\n",
    "\n",
    "print(\"energy (init)=\", fun(v_internal, fx, v, h, p))\n",
    "\n",
    "\n",
    "solopt = minimize_timed(fun, v_internal, args=(fx, v, h, p))\n",
    "\n",
    "print(\"energy (final)=\", fun(solopt.x, fx, v, h, p))"
   ]
  },
  {
   "attachments": {},
   "cell_type": "markdown",
   "metadata": {},
   "source": [
    "# Verze trust regionu v scipy.optimize.minimize, správný výsledek, ale trvá déle než předchozí trust region (vevnitř se zřejmě děje něco jinak (víc iterací))"
   ]
  },
  {
   "cell_type": "code",
   "execution_count": null,
   "metadata": {},
   "outputs": [],
   "source": [
    "print(\"energy (init)=\", fun(v_internal, fx, v, h, p))\n",
    "\n",
    "\n",
    "solopt = minimize_timed(fun, v_internal, args=(fx, v, h, p), method='trust-exact', jac=dfun, hess=ddfun)\n",
    "\n",
    "print(\"energy (final)=\", fun(solopt.x, fx, v, h, p))\n",
    "solopt.nit"
   ]
  },
  {
   "cell_type": "code",
   "execution_count": null,
   "metadata": {},
   "outputs": [],
   "source": [
    "import fides\n",
    "\n",
    "def obj(x):\n",
    "    return fun1(x), dfun1(x), dfun1(x)\n",
    "\n",
    "opt = fides.Optimizer(obj)\n",
    "\n",
    "opt_f, opt_x, opt_grad, opt_hess = opt.minimize(x0)"
   ]
  },
  {
   "attachments": {},
   "cell_type": "markdown",
   "metadata": {},
   "source": [
    "# větší úloha"
   ]
  },
  {
   "cell_type": "code",
   "execution_count": null,
   "metadata": {},
   "outputs": [],
   "source": [
    "p, a, b = 3, -1, 1\n",
    "ne = 1000\n",
    "x = np.linspace(a, b, ne + 1)\n",
    "h = np.diff(x)\n",
    "\n",
    "v = u_init(x)            # testing function\n",
    "v_internal = v[1:-1].copy()\n",
    "x0 = v_internal.copy()   # initial guess\n",
    "\n",
    "\n",
    "x_mid = (x[1:] + x[:-1]) / 2\n",
    "fx = f(x_mid)"
   ]
  },
  {
   "cell_type": "code",
   "execution_count": null,
   "metadata": {},
   "outputs": [],
   "source": [
    "\n",
    "solopt, iterations = trust_region(fun1 , dfun1, ddfun1, x0, c0=1, tolf=1e-6, tolg=1e-3, maxit=1000, verbose = False)\n"
   ]
  },
  {
   "cell_type": "code",
   "execution_count": null,
   "metadata": {},
   "outputs": [],
   "source": [
    "ddfun1(solopt)"
   ]
  },
  {
   "attachments": {},
   "cell_type": "markdown",
   "metadata": {},
   "source": [
    "### scipy je třeba nastavit mimo default, jinak nedořeší v 1000 iteracích"
   ]
  },
  {
   "cell_type": "code",
   "execution_count": null,
   "metadata": {},
   "outputs": [],
   "source": [
    "solopt = minimize(fun1, v_internal, method='TNC', jac=dfun1)\n",
    "\n",
    "print(\"energy (final)=\", fun(solopt.x, fx, v, h, p))\n",
    "solopt"
   ]
  },
  {
   "cell_type": "code",
   "execution_count": null,
   "metadata": {},
   "outputs": [],
   "source": [
    "import sparsejac\n",
    "import importlib\n",
    "import sparsejac\n",
    "importlib.reload(sparsejac)\n"
   ]
  },
  {
   "cell_type": "code",
   "execution_count": null,
   "metadata": {},
   "outputs": [],
   "source": [
    "\n",
    "from scipy.sparse import diags\n",
    "n = ne-1\n",
    "# create threediagonal matrix with 1 on diagonal of size n\n",
    "\n",
    "diagonals = [np.ones(n-1), np.ones(n), np.ones(n-1)]\n",
    "offsets = [-1, 0, 1]\n",
    "A = diags(diagonals, offsets)"
   ]
  },
  {
   "cell_type": "code",
   "execution_count": null,
   "metadata": {},
   "outputs": [],
   "source": [
    "\n",
    "sparsity = jax.experimental.sparse.BCOO.from_scipy_sparse(A)\n"
   ]
  },
  {
   "cell_type": "code",
   "execution_count": null,
   "metadata": {},
   "outputs": [],
   "source": [
    "# automatická derivace a kompilace\n",
    "fun = jax.jit(energy_jax)\n",
    "dfun = jax.jit(jax.grad(energy_jax, argnums=0))\n",
    "ddfun = jax.jit(sparsejac.jacrev(jax.grad(energy_jax, argnums=0), sparsity,argnums=0))\n",
    "fun1 = lambda v_internal: fun(v_internal, fx, v, h, p)\n",
    "dfun1 = lambda v_internal: dfun(v_internal, fx, v, h, p)\n",
    "ddfun1 = lambda v_internal: ddfun(v_internal, fx, v, h, p)"
   ]
  },
  {
   "cell_type": "code",
   "execution_count": null,
   "metadata": {},
   "outputs": [],
   "source": [
    "from jax.scipy.sparse.linalg import cg\n",
    "\n",
    "\n",
    "A = ddfun1(solopt)\n",
    "b = solopt.copy()\n",
    "for i in range(100):\n",
    "\n",
    "    x = cg(A, b, tol=1e-3)\n"
   ]
  },
  {
   "cell_type": "code",
   "execution_count": null,
   "metadata": {},
   "outputs": [],
   "source": [
    "import scipy.sparse.linalg as spla\n",
    "A = A.\n",
    "spla.spsolve(A, b)"
   ]
  },
  {
   "cell_type": "code",
   "execution_count": null,
   "metadata": {},
   "outputs": [],
   "source": [
    "\n",
    "x = jax.random.uniform(jax.random.PRNGKey(0), shape=(1000,))\n",
    "\n",
    "sparse_fn = jax.jit(sparsejac.jacrev(fn, sparsity))\n",
    "dense_fn = jax.jit(jax.jacrev(fn))\n"
   ]
  },
  {
   "attachments": {},
   "cell_type": "markdown",
   "metadata": {},
   "source": [
    "# ADAM"
   ]
  },
  {
   "cell_type": "code",
   "execution_count": null,
   "metadata": {},
   "outputs": [],
   "source": [
    "# reload module\n",
    "import importlib\n",
    "import my_solvers\n",
    "importlib.reload(my_solvers)\n",
    "from my_solvers import adam\n"
   ]
  },
  {
   "cell_type": "code",
   "execution_count": null,
   "metadata": {},
   "outputs": [],
   "source": [
    "\n",
    "solopt = adam(fun1, dfun1, x0, maxit=10000)"
   ]
  },
  {
   "attachments": {},
   "cell_type": "markdown",
   "metadata": {},
   "source": [
    "# profilování trust regionu\n",
    "- řeší s hustými maticemi (nevím jestli jax zvládne sparse)\n",
    "- 171 iterací vs v článku bylo 37"
   ]
  },
  {
   "cell_type": "code",
   "execution_count": null,
   "metadata": {},
   "outputs": [],
   "source": [
    "# !pip install line_profiler"
   ]
  },
  {
   "cell_type": "code",
   "execution_count": null,
   "metadata": {},
   "outputs": [],
   "source": [
    "%load_ext line_profiler"
   ]
  },
  {
   "attachments": {},
   "cell_type": "markdown",
   "metadata": {},
   "source": [
    "### Line profiler (moje vysledky)\n",
    "83% času stráveného při řešení hustého systému lineárních rovnic\n",
    "\n",
    "```\n",
    "Line #      Hits         Time  Per Hit   % Time  Line Contents\n",
    "==============================================================\n",
    "    71                                           @timer_decorator\n",
    "    72                                           def trust_region(f, df, ddf, x0, c0=1.0, tolf=1e-6, tolg=1e-3, maxit=1000, verbose=False):\n",
    "    73                                               \"\"\"\n",
    "    74                                               Trust Region (quasi-Newton method)\n",
    "    75                                           \n",
    "    76                                               Parameters\n",
    "    77                                               ----------\n",
    "    78                                               fun : function\n",
    "    79                                                   The objective function to be minimized.\n",
    "    80                                               x0 : numpy.ndarray\n",
    "    81                                                   The initial guess for the minimum.\n",
    "    82                                               c0 : float\n",
    "    83                                                   The initial trust region size.\n",
    "    84                                               tol : float\n",
    "    85                                                   The tolerance for the stopping condition.\n",
    "    86                                           \n",
    "    87                                               Returns\n",
    "    88                                               -------\n",
    "    89                                               xmin : numpy.ndarray\n",
    "    90                                                   The found minimum.\n",
    "    91                                               it : int\n",
    "    92                                                   The number of iterations.\n",
    "    93                                               \"\"\"\n",
    "    94                                           \n",
    "    95         1       1077.0   1077.0      0.0      c = c0\n",
    "    96         1        376.0    376.0      0.0      x = x0\n",
    "    97         1     830351.0 830351.0      0.0      fx = f(x)\n",
    "    98         1    3272663.0 3272663.0      0.0      g = df(x)\n",
    "    99         1    8270695.0 8270695.0      0.0      H = ddf(x)\n",
    "   100                                           \n",
    "   101         1       1110.0   1110.0      0.0      it = 0\n",
    "   102       172   14835459.0  86252.7      0.1      while np.linalg.norm(g) > tolg:\n",
    "   103                                                   # Trial step\n",
    "   104       172 13996989406.0 81377845.4     82.8          h = -np.linalg.solve(H + c * np.eye(len(x)), g)\n",
    "   105                                                   # Quadratic model of function f\n",
    "   106       172  754014682.0 4383806.3      4.5          m = fx + np.dot(g.T, h) + 0.5 * np.dot(np.dot(h.T, H), h)\n",
    "   107       172   18575530.0 107997.3      0.1          fxn = f(x + h)\n",
    "   108                                           \n",
    "   109                                                   # check stopping condition for f\n",
    "   110       171   12395796.0  72490.0      0.1          if np.abs(fx - fxn) < tolf:\n",
    "   111         1      94493.0  94493.0      0.0              print(\"Stopping condition for f is satisfied\")\n",
    "   112         1        462.0    462.0      0.0              break\n",
    "   113                                           \n",
    "   114       171   11968786.0  69992.9      0.1          rho = (fx - fxn) / (fx - m)\n",
    "   115                                           \n",
    "   116       136   14779538.0 108673.1      0.1          if rho >= 0.1:\n",
    "   117       136    3481096.0  25596.3      0.0              xn = x + h\n",
    "   118       136    7809308.0  57421.4      0.0              g = df(xn)\n",
    "   119       136 2028782573.0 14917518.9     12.0              H = ddf(xn)\n",
    "   120                                                   else:\n",
    "   121        35      18548.0    529.9      0.0              xn = x\n",
    "   122        35      57342.0   1638.3      0.0              fxn = fx\n",
    "   123                                           \n",
    "   124                                                   # Adjust the size of the trust region\n",
    "   125       126   25827956.0 204983.8      0.2          if rho > 0.75:\n",
    "   126        45     129868.0   2886.0      0.0              c *= 0.5\n",
    "   127        91    5762495.0  63324.1      0.0          elif rho < 0.1:\n",
    "   128        35      63492.0   1814.1      0.0              c *= 2\n",
    "   129                                           \n",
    "   130       171     664423.0   3885.5      0.0          x = xn\n",
    "   131       171     518335.0   3031.2      0.0          fx = fxn\n",
    "   132                                           \n",
    "   133       171     247481.0   1447.3      0.0          it += 1\n",
    "   134       171     104773.0    612.7      0.0          if verbose:\n",
    "   135                                                       print(f\"it={it}, f={fx}, c={c}, ||g||={np.linalg.norm(g)}\")\n",
    "   136                                           \n",
    "   137       171     168070.0    982.9      0.0          if it > maxit:\n",
    "   138                                                       print(\"Maximum number of iterations reached\")\n",
    "   139                                                       break\n",
    "   140                                               else:\n",
    "   141                                                   print(\"Stopping condition for g is satisfied\")\n",
    "   142                                           \n",
    "   143         1     173675.0 173675.0      0.0      print(f\"it={it}, f={fx}, c={c}, ||g||={np.linalg.norm(g)}\")\n",
    "   144         1        446.0    446.0      0.0      return x, it\n",
    "   ```"
   ]
  },
  {
   "cell_type": "code",
   "execution_count": null,
   "metadata": {},
   "outputs": [],
   "source": [
    "%lprun -f trust_region.__wrapped__ trust_region(fun1 , dfun1, ddfun1, x0, c0=1, tolf=1e-6, tolg=1e-6, maxit=1000, verbose = False)"
   ]
  }
 ],
 "metadata": {
  "kernelspec": {
   "display_name": "Python 3",
   "language": "python",
   "name": "python3"
  },
  "language_info": {
   "codemirror_mode": {
    "name": "ipython",
    "version": 3
   },
   "file_extension": ".py",
   "mimetype": "text/x-python",
   "name": "python",
   "nbconvert_exporter": "python",
   "pygments_lexer": "ipython3",
   "version": "3.11.3"
  },
  "orig_nbformat": 4
 },
 "nbformat": 4,
 "nbformat_minor": 2
}
