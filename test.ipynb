{
 "cells": [
  {
   "cell_type": "code",
   "execution_count": 1,
   "metadata": {},
   "outputs": [
    {
     "name": "stdout",
     "output_type": "stream",
     "text": [
      "no.nodes: 48385, no.elements: 267960, dim: 3\n"
     ]
    }
   ],
   "source": [
    "# Marta Matice Valdman 1 - solution\n",
    "# here is the original file in OneDrive\n",
    "import scipy.io as io\n",
    "import numpy as np\n",
    "\n",
    "\n",
    "# from scipy.io import loadmat  # this is the SciPy module that loads mat-files\n",
    "import matplotlib.pyplot as plt\n",
    "from datetime import datetime, date, time\n",
    "import pandas as pd\n",
    "\n",
    "import numpy.linalg as la\n",
    "import scipy.linalg as spla\n",
    "\n",
    "import time\n",
    "from multiprocessing import Pool, cpu_count\n",
    "# from functools import partial\n",
    "import collections\n",
    "import os\n",
    "import math\n",
    "\n",
    "n_processors = cpu_count()\n",
    "\n",
    "# read file\n",
    "file = 'mesh_3D_level5.mat'\n",
    "coordinates = 'coords'\n",
    "elements = 'elems'\n",
    "\n",
    "mesh = mesh_coordinates = io.loadmat(file)\n",
    "mesh_coordinates = mesh['coords']\n",
    "mesh_elements = mesh['elems']\n",
    "n_n = mesh_coordinates.shape[0]        # number of nodes\n",
    "n_e = mesh_elements.shape[0]           # number of element\n",
    "dim = mesh_coordinates.shape[1]        # dimension\n",
    "print(f'no.nodes: {n_n}, no.elements: {n_e}, dim: {dim}')\n"
   ]
  },
  {
   "cell_type": "code",
   "execution_count": 2,
   "metadata": {},
   "outputs": [
    {
     "data": {
      "text/plain": [
       "{'__header__': b'MATLAB 5.0 MAT-file, Platform: PCWIN64, Created on: Wed Nov  3 10:45:39 2021',\n",
       " '__version__': '1.0',\n",
       " '__globals__': [],\n",
       " 'coords': array([[-0.5       , -0.5       ,  0.        ],\n",
       "        [ 0.5       , -0.5       ,  0.        ],\n",
       "        [ 0.5       ,  0.5       ,  0.        ],\n",
       "        ...,\n",
       "        [-0.03878742, -0.06282786,  0.45052623],\n",
       "        [-0.0870318 ,  0.10938944,  0.41051007],\n",
       "        [ 0.08577658, -0.01182843,  0.42937678]]),\n",
       " 'elems': array([[48129, 47651, 47891, 47939],\n",
       "        [45730, 43627, 44496, 44558],\n",
       "        [45187, 42423, 43185, 43982],\n",
       "        ...,\n",
       "        [44563, 44381, 42655, 43525],\n",
       "        [44563, 43525, 43892, 44381],\n",
       "        [46333, 45223, 44686, 44989]], dtype=uint16)}"
      ]
     },
     "execution_count": 2,
     "metadata": {},
     "output_type": "execute_result"
    }
   ],
   "source": [
    "mesh"
   ]
  },
  {
   "cell_type": "code",
   "execution_count": 3,
   "metadata": {},
   "outputs": [
    {
     "name": "stdout",
     "output_type": "stream",
     "text": [
      "[2.97979075e-05 2.24306000e-05 2.48574358e-05 ... 2.93612564e-05\n",
      " 3.12613323e-05 1.90605880e-05]\n",
      "0.9999999999999877\n",
      "--single process - 308.0376477241516 seconds ---\n"
     ]
    }
   ],
   "source": [
    "\n",
    "# print(mesh_coordinates.shape)\n",
    "# print(mesh_elements.shape)\n",
    "\n",
    "# coords 3D matice\n",
    "# single process\n",
    "\n",
    "start_time = time.time()\n",
    "\n",
    "coords3D = np.zeros((dim, dim, n_e))\n",
    "det_coords3D = np.zeros(n_e)\n",
    "inv_coords3D = np.zeros((dim, dim, n_e))\n",
    "\n",
    "for el in range(0, n_e):\n",
    "    nodes = mesh_elements[el]\n",
    "    coordinates = mesh_coordinates[nodes - 1, :]\n",
    "    for comp in range(dim):\n",
    "        coords3D[comp, :, el] = coordinates[comp + 1, :] - coordinates[0, :]\n",
    "\n",
    "    det_coords3D[el] = np.linalg.det(coords3D[:, :, el])\n",
    "    inv_coords3D[:, :, el] = np.linalg.inv(coords3D[:, :, el])\n",
    "\n",
    "print(det_coords3D)\n",
    "print(sum(det_coords3D) / 6)\n",
    "print(\"--single process - %s seconds ---\" % (time.time() - start_time))\n"
   ]
  },
  {
   "cell_type": "code",
   "execution_count": 4,
   "metadata": {},
   "outputs": [
    {
     "ename": "IndexError",
     "evalue": "index 48385 is out of bounds for axis 0 with size 48385",
     "output_type": "error",
     "traceback": [
      "\u001b[0;31m---------------------------------------------------------------------------\u001b[0m",
      "\u001b[0;31mRemoteTraceback\u001b[0m                           Traceback (most recent call last)",
      "\u001b[0;31mRemoteTraceback\u001b[0m: \n\"\"\"\nTraceback (most recent call last):\n  File \"/usr/lib/python3.11/multiprocessing/pool.py\", line 125, in worker\n    result = (True, func(*args, **kwds))\n                    ^^^^^^^^^^^^^^^^^^^\n  File \"/usr/lib/python3.11/multiprocessing/pool.py\", line 48, in mapstar\n    return list(map(*args))\n           ^^^^^^^^^^^^^^^^\n  File \"/tmp/ipykernel_61756/2284937170.py\", line 6, in create_3D_set\n    coords3D_1 = (mesh_coordinates[mesh_elements[:, i]] - mesh_coordinates[mesh_elements[:, 0]]).T\n                  ~~~~~~~~~~~~~~~~^^^^^^^^^^^^^^^^^^^^^\nIndexError: index 48385 is out of bounds for axis 0 with size 48385\n\"\"\"",
      "\nThe above exception was the direct cause of the following exception:\n",
      "\u001b[0;31mIndexError\u001b[0m                                Traceback (most recent call last)",
      "Cell \u001b[0;32mIn[4], line 15\u001b[0m\n\u001b[1;32m     12\u001b[0m pool \u001b[39m=\u001b[39m Pool(processes\u001b[39m=\u001b[39m\u001b[39m8\u001b[39m)\n\u001b[1;32m     14\u001b[0m \u001b[39m# coords3D = np.array(pool.map(create_3D_set,coords3D))\u001b[39;00m\n\u001b[0;32m---> 15\u001b[0m coords3D \u001b[39m=\u001b[39m np\u001b[39m.\u001b[39marray(pool\u001b[39m.\u001b[39;49mmap(create_3D_set, [i \u001b[39mfor\u001b[39;49;00m i \u001b[39min\u001b[39;49;00m \u001b[39mrange\u001b[39;49m(\u001b[39m1\u001b[39;49m, dim \u001b[39m+\u001b[39;49m \u001b[39m1\u001b[39;49m)]))\n\u001b[1;32m     17\u001b[0m det_coords3D \u001b[39m=\u001b[39m np\u001b[39m.\u001b[39mlinalg\u001b[39m.\u001b[39mdet(coords3D\u001b[39m.\u001b[39mT)\n\u001b[1;32m     18\u001b[0m inv_coords3D \u001b[39m=\u001b[39m np\u001b[39m.\u001b[39mlinalg\u001b[39m.\u001b[39minv(coords3D\u001b[39m.\u001b[39mT)\n",
      "File \u001b[0;32m/usr/lib/python3.11/multiprocessing/pool.py:367\u001b[0m, in \u001b[0;36mPool.map\u001b[0;34m(self, func, iterable, chunksize)\u001b[0m\n\u001b[1;32m    362\u001b[0m \u001b[39mdef\u001b[39;00m \u001b[39mmap\u001b[39m(\u001b[39mself\u001b[39m, func, iterable, chunksize\u001b[39m=\u001b[39m\u001b[39mNone\u001b[39;00m):\n\u001b[1;32m    363\u001b[0m \u001b[39m    \u001b[39m\u001b[39m'''\u001b[39;00m\n\u001b[1;32m    364\u001b[0m \u001b[39m    Apply `func` to each element in `iterable`, collecting the results\u001b[39;00m\n\u001b[1;32m    365\u001b[0m \u001b[39m    in a list that is returned.\u001b[39;00m\n\u001b[1;32m    366\u001b[0m \u001b[39m    '''\u001b[39;00m\n\u001b[0;32m--> 367\u001b[0m     \u001b[39mreturn\u001b[39;00m \u001b[39mself\u001b[39;49m\u001b[39m.\u001b[39;49m_map_async(func, iterable, mapstar, chunksize)\u001b[39m.\u001b[39;49mget()\n",
      "File \u001b[0;32m/usr/lib/python3.11/multiprocessing/pool.py:774\u001b[0m, in \u001b[0;36mApplyResult.get\u001b[0;34m(self, timeout)\u001b[0m\n\u001b[1;32m    772\u001b[0m     \u001b[39mreturn\u001b[39;00m \u001b[39mself\u001b[39m\u001b[39m.\u001b[39m_value\n\u001b[1;32m    773\u001b[0m \u001b[39melse\u001b[39;00m:\n\u001b[0;32m--> 774\u001b[0m     \u001b[39mraise\u001b[39;00m \u001b[39mself\u001b[39m\u001b[39m.\u001b[39m_value\n",
      "\u001b[0;31mIndexError\u001b[0m: index 48385 is out of bounds for axis 0 with size 48385"
     ]
    }
   ],
   "source": [
    "\n",
    "# multiprocessing\n",
    "# multi process\n",
    "\n",
    "\n",
    "def create_3D_set(i):\n",
    "    coords3D_1 = (mesh_coordinates[mesh_elements[:, i]] - mesh_coordinates[mesh_elements[:, 0]]).T\n",
    "    # print(i,coords3D_1.shape)\n",
    "    return coords3D_1\n",
    "\n",
    "\n",
    "start = time.time()\n",
    "pool = Pool(processes=8)\n",
    "\n",
    "# coords3D = np.array(pool.map(create_3D_set,coords3D))\n",
    "coords3D = np.array(pool.map(create_3D_set, [i for i in range(1, dim + 1)]))\n",
    "\n",
    "det_coords3D = np.linalg.det(coords3D.T)\n",
    "inv_coords3D = np.linalg.inv(coords3D.T)\n",
    "\n",
    "end = time.time()\n",
    "\n",
    "print(\"--mutliprocess - %s seconds ---\" % (time.time() - start_time))\n"
   ]
  }
 ],
 "metadata": {
  "kernelspec": {
   "display_name": "Python 3",
   "language": "python",
   "name": "python3"
  },
  "language_info": {
   "codemirror_mode": {
    "name": "ipython",
    "version": 3
   },
   "file_extension": ".py",
   "mimetype": "text/x-python",
   "name": "python",
   "nbconvert_exporter": "python",
   "pygments_lexer": "ipython3",
   "version": "3.11.3"
  },
  "orig_nbformat": 4
 },
 "nbformat": 4,
 "nbformat_minor": 2
}
